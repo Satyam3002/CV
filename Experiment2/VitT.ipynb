{
 "cells": [
  {
   "cell_type": "code",
   "execution_count": 1,
   "id": "9273e6e5",
   "metadata": {
    "_cell_guid": "b1076dfc-b9ad-4769-8c92-a6c4dae69d19",
    "_uuid": "8f2839f25d086af736a60e9eeb907d3b93b6e0e5",
    "execution": {
     "iopub.execute_input": "2025-02-10T11:49:01.985701Z",
     "iopub.status.busy": "2025-02-10T11:49:01.985485Z",
     "iopub.status.idle": "2025-02-10T11:49:09.874226Z",
     "shell.execute_reply": "2025-02-10T11:49:09.873421Z"
    },
    "papermill": {
     "duration": 7.894401,
     "end_time": "2025-02-10T11:49:09.875775",
     "exception": false,
     "start_time": "2025-02-10T11:49:01.981374",
     "status": "completed"
    },
    "tags": []
   },
   "outputs": [],
   "source": [
    "import numpy as np \n",
    "import pandas as pd \n",
    "import os\n",
    "import os\n",
    "import torch\n",
    "import torchvision.transforms as transforms\n",
    "from torchvision.datasets import ImageFolder\n",
    "from PIL import Image\n",
    "import random\n",
    "# for dirname, _, filenames in os.walk('/kaggle/input'):\n",
    "#     for filename in filenames:\n",
    "#         print(os.path.join(dirname, filename))\n"
   ]
  },
  {
   "cell_type": "code",
   "execution_count": 2,
   "id": "1e1a8506",
   "metadata": {
    "execution": {
     "iopub.execute_input": "2025-02-10T11:49:09.882310Z",
     "iopub.status.busy": "2025-02-10T11:49:09.881945Z",
     "iopub.status.idle": "2025-02-10T11:49:18.154196Z",
     "shell.execute_reply": "2025-02-10T11:49:18.153280Z"
    },
    "papermill": {
     "duration": 8.276775,
     "end_time": "2025-02-10T11:49:18.155735",
     "exception": false,
     "start_time": "2025-02-10T11:49:09.878960",
     "status": "completed"
    },
    "tags": []
   },
   "outputs": [
    {
     "name": "stdout",
     "output_type": "stream",
     "text": [
      "Collecting segmentation_models_pytorch\r\n",
      "  Downloading segmentation_models_pytorch-0.4.0-py3-none-any.whl.metadata (32 kB)\r\n",
      "Collecting efficientnet-pytorch>=0.6.1 (from segmentation_models_pytorch)\r\n",
      "  Downloading efficientnet_pytorch-0.7.1.tar.gz (21 kB)\r\n",
      "  Preparing metadata (setup.py) ... \u001b[?25l\u001b[?25hdone\r\n",
      "Requirement already satisfied: huggingface-hub>=0.24 in /usr/local/lib/python3.10/dist-packages (from segmentation_models_pytorch) (0.28.1)\r\n",
      "Requirement already satisfied: numpy>=1.19.3 in /usr/local/lib/python3.10/dist-packages (from segmentation_models_pytorch) (1.26.4)\r\n",
      "Requirement already satisfied: pillow>=8 in /usr/local/lib/python3.10/dist-packages (from segmentation_models_pytorch) (11.0.0)\r\n",
      "Collecting pretrainedmodels>=0.7.1 (from segmentation_models_pytorch)\r\n",
      "  Downloading pretrainedmodels-0.7.4.tar.gz (58 kB)\r\n",
      "\u001b[2K     \u001b[90m━━━━━━━━━━━━━━━━━━━━━━━━━━━━━━━━━━━━━━━━\u001b[0m \u001b[32m58.8/58.8 kB\u001b[0m \u001b[31m4.4 MB/s\u001b[0m eta \u001b[36m0:00:00\u001b[0m\r\n",
      "\u001b[?25h  Preparing metadata (setup.py) ... \u001b[?25l\u001b[?25hdone\r\n",
      "Requirement already satisfied: six>=1.5 in /usr/local/lib/python3.10/dist-packages (from segmentation_models_pytorch) (1.17.0)\r\n",
      "Requirement already satisfied: timm>=0.9 in /usr/local/lib/python3.10/dist-packages (from segmentation_models_pytorch) (1.0.12)\r\n",
      "Requirement already satisfied: torch>=1.8 in /usr/local/lib/python3.10/dist-packages (from segmentation_models_pytorch) (2.5.1+cu121)\r\n",
      "Requirement already satisfied: torchvision>=0.9 in /usr/local/lib/python3.10/dist-packages (from segmentation_models_pytorch) (0.20.1+cu121)\r\n",
      "Requirement already satisfied: tqdm>=4.42.1 in /usr/local/lib/python3.10/dist-packages (from segmentation_models_pytorch) (4.67.1)\r\n",
      "Requirement already satisfied: filelock in /usr/local/lib/python3.10/dist-packages (from huggingface-hub>=0.24->segmentation_models_pytorch) (3.17.0)\r\n",
      "Requirement already satisfied: fsspec>=2023.5.0 in /usr/local/lib/python3.10/dist-packages (from huggingface-hub>=0.24->segmentation_models_pytorch) (2024.9.0)\r\n",
      "Requirement already satisfied: packaging>=20.9 in /usr/local/lib/python3.10/dist-packages (from huggingface-hub>=0.24->segmentation_models_pytorch) (24.2)\r\n",
      "Requirement already satisfied: pyyaml>=5.1 in /usr/local/lib/python3.10/dist-packages (from huggingface-hub>=0.24->segmentation_models_pytorch) (6.0.2)\r\n",
      "Requirement already satisfied: requests in /usr/local/lib/python3.10/dist-packages (from huggingface-hub>=0.24->segmentation_models_pytorch) (2.32.3)\r\n",
      "Requirement already satisfied: typing-extensions>=3.7.4.3 in /usr/local/lib/python3.10/dist-packages (from huggingface-hub>=0.24->segmentation_models_pytorch) (4.12.2)\r\n",
      "Requirement already satisfied: mkl_fft in /usr/local/lib/python3.10/dist-packages (from numpy>=1.19.3->segmentation_models_pytorch) (1.3.8)\r\n",
      "Requirement already satisfied: mkl_random in /usr/local/lib/python3.10/dist-packages (from numpy>=1.19.3->segmentation_models_pytorch) (1.2.4)\r\n",
      "Requirement already satisfied: mkl_umath in /usr/local/lib/python3.10/dist-packages (from numpy>=1.19.3->segmentation_models_pytorch) (0.1.1)\r\n",
      "Requirement already satisfied: mkl in /usr/local/lib/python3.10/dist-packages (from numpy>=1.19.3->segmentation_models_pytorch) (2025.0.1)\r\n",
      "Requirement already satisfied: tbb4py in /usr/local/lib/python3.10/dist-packages (from numpy>=1.19.3->segmentation_models_pytorch) (2022.0.0)\r\n",
      "Requirement already satisfied: mkl-service in /usr/local/lib/python3.10/dist-packages (from numpy>=1.19.3->segmentation_models_pytorch) (2.4.1)\r\n",
      "Collecting munch (from pretrainedmodels>=0.7.1->segmentation_models_pytorch)\r\n",
      "  Downloading munch-4.0.0-py2.py3-none-any.whl.metadata (5.9 kB)\r\n",
      "Requirement already satisfied: safetensors in /usr/local/lib/python3.10/dist-packages (from timm>=0.9->segmentation_models_pytorch) (0.4.5)\r\n",
      "Requirement already satisfied: networkx in /usr/local/lib/python3.10/dist-packages (from torch>=1.8->segmentation_models_pytorch) (3.4.2)\r\n",
      "Requirement already satisfied: jinja2 in /usr/local/lib/python3.10/dist-packages (from torch>=1.8->segmentation_models_pytorch) (3.1.4)\r\n",
      "Requirement already satisfied: sympy==1.13.1 in /usr/local/lib/python3.10/dist-packages (from torch>=1.8->segmentation_models_pytorch) (1.13.1)\r\n",
      "Requirement already satisfied: mpmath<1.4,>=1.1.0 in /usr/local/lib/python3.10/dist-packages (from sympy==1.13.1->torch>=1.8->segmentation_models_pytorch) (1.3.0)\r\n",
      "Requirement already satisfied: MarkupSafe>=2.0 in /usr/local/lib/python3.10/dist-packages (from jinja2->torch>=1.8->segmentation_models_pytorch) (3.0.2)\r\n",
      "Requirement already satisfied: intel-openmp>=2024 in /usr/local/lib/python3.10/dist-packages (from mkl->numpy>=1.19.3->segmentation_models_pytorch) (2024.2.0)\r\n",
      "Requirement already satisfied: tbb==2022.* in /usr/local/lib/python3.10/dist-packages (from mkl->numpy>=1.19.3->segmentation_models_pytorch) (2022.0.0)\r\n",
      "Requirement already satisfied: tcmlib==1.* in /usr/local/lib/python3.10/dist-packages (from tbb==2022.*->mkl->numpy>=1.19.3->segmentation_models_pytorch) (1.2.0)\r\n",
      "Requirement already satisfied: intel-cmplr-lib-rt in /usr/local/lib/python3.10/dist-packages (from mkl_umath->numpy>=1.19.3->segmentation_models_pytorch) (2024.2.0)\r\n",
      "Requirement already satisfied: charset-normalizer<4,>=2 in /usr/local/lib/python3.10/dist-packages (from requests->huggingface-hub>=0.24->segmentation_models_pytorch) (3.4.1)\r\n",
      "Requirement already satisfied: idna<4,>=2.5 in /usr/local/lib/python3.10/dist-packages (from requests->huggingface-hub>=0.24->segmentation_models_pytorch) (3.10)\r\n",
      "Requirement already satisfied: urllib3<3,>=1.21.1 in /usr/local/lib/python3.10/dist-packages (from requests->huggingface-hub>=0.24->segmentation_models_pytorch) (2.3.0)\r\n",
      "Requirement already satisfied: certifi>=2017.4.17 in /usr/local/lib/python3.10/dist-packages (from requests->huggingface-hub>=0.24->segmentation_models_pytorch) (2025.1.31)\r\n",
      "Requirement already satisfied: intel-cmplr-lib-ur==2024.2.0 in /usr/local/lib/python3.10/dist-packages (from intel-openmp>=2024->mkl->numpy>=1.19.3->segmentation_models_pytorch) (2024.2.0)\r\n",
      "Downloading segmentation_models_pytorch-0.4.0-py3-none-any.whl (121 kB)\r\n",
      "\u001b[2K   \u001b[90m━━━━━━━━━━━━━━━━━━━━━━━━━━━━━━━━━━━━━━━━\u001b[0m \u001b[32m121.3/121.3 kB\u001b[0m \u001b[31m7.5 MB/s\u001b[0m eta \u001b[36m0:00:00\u001b[0m\r\n",
      "\u001b[?25hDownloading munch-4.0.0-py2.py3-none-any.whl (9.9 kB)\r\n",
      "Building wheels for collected packages: efficientnet-pytorch, pretrainedmodels\r\n",
      "  Building wheel for efficientnet-pytorch (setup.py) ... \u001b[?25l\u001b[?25hdone\r\n",
      "  Created wheel for efficientnet-pytorch: filename=efficientnet_pytorch-0.7.1-py3-none-any.whl size=16424 sha256=dab006acd2bb341dbe82bbdcac84b520655389082b504a524c9aadc2e2383bd5\r\n",
      "  Stored in directory: /root/.cache/pip/wheels/03/3f/e9/911b1bc46869644912bda90a56bcf7b960f20b5187feea3baf\r\n",
      "  Building wheel for pretrainedmodels (setup.py) ... \u001b[?25l\u001b[?25hdone\r\n",
      "  Created wheel for pretrainedmodels: filename=pretrainedmodels-0.7.4-py3-none-any.whl size=60944 sha256=e77a4162a583974170efc5c57404d9108186e3d24c9c28c88f184ebd0e25e8c0\r\n",
      "  Stored in directory: /root/.cache/pip/wheels/35/cb/a5/8f534c60142835bfc889f9a482e4a67e0b817032d9c6883b64\r\n",
      "Successfully built efficientnet-pytorch pretrainedmodels\r\n",
      "Installing collected packages: munch, efficientnet-pytorch, pretrainedmodels, segmentation_models_pytorch\r\n",
      "Successfully installed efficientnet-pytorch-0.7.1 munch-4.0.0 pretrainedmodels-0.7.4 segmentation_models_pytorch-0.4.0\r\n"
     ]
    }
   ],
   "source": [
    "!pip install segmentation_models_pytorch"
   ]
  },
  {
   "cell_type": "code",
   "execution_count": 3,
   "id": "2fee5c40",
   "metadata": {
    "execution": {
     "iopub.execute_input": "2025-02-10T11:49:18.163732Z",
     "iopub.status.busy": "2025-02-10T11:49:18.163473Z",
     "iopub.status.idle": "2025-02-10T11:49:18.166826Z",
     "shell.execute_reply": "2025-02-10T11:49:18.166250Z"
    },
    "papermill": {
     "duration": 0.008727,
     "end_time": "2025-02-10T11:49:18.168169",
     "exception": false,
     "start_time": "2025-02-10T11:49:18.159442",
     "status": "completed"
    },
    "tags": []
   },
   "outputs": [],
   "source": [
    "# import os\n",
    "# import torch\n",
    "# import torchvision.transforms as transforms\n",
    "# from torchvision.datasets import ImageFolder\n",
    "# from PIL import Image\n",
    "# import random\n",
    "\n",
    "# dataset_path = \"/kaggle/input/thermal-images-diseased-healthy-leaves-paddy/thermal images UL\"\n",
    "# augmented_dataset_path = \"/kaggle/working/augmented_dataset\"  \n",
    "# possible_augmentations = [\n",
    "#     transforms.RandomHorizontalFlip(p=1.0),  \n",
    "#     transforms.RandomRotation(degrees=30),  \n",
    "#     transforms.ColorJitter(brightness=0.3, contrast=0.3, saturation=0.3, hue=0.1),  \n",
    "#     transforms.RandomAffine(degrees=0, translate=(0.2, 0.2)),  \n",
    "#     transforms.RandomPerspective(distortion_scale=0.4, p=1.0),  \n",
    "#     transforms.GaussianBlur(kernel_size=5, sigma=(0.1, 3.0)),  \n",
    "# ]\n",
    "\n",
    "# original_dataset = ImageFolder(root=dataset_path)\n",
    "# if not os.path.exists(augmented_dataset_path):\n",
    "#     os.makedirs(augmented_dataset_path)\n",
    "\n",
    "# for class_name in original_dataset.classes:\n",
    "#     os.makedirs(os.path.join(augmented_dataset_path, class_name), exist_ok=True)\n",
    "\n",
    "# num_augmentations = 8  \n",
    "# for img_path, label in original_dataset.samples:\n",
    "#     img = Image.open(img_path).convert(\"RGB\")\n",
    "#     class_name = original_dataset.classes[label]\n",
    "#     save_dir = os.path.join(augmented_dataset_path, class_name)\n",
    "\n",
    "#     img.save(os.path.join(save_dir, os.path.basename(img_path)))\n",
    "#     for i in range(num_augmentations):\n",
    "#         selected_augmentations = random.sample(possible_augmentations, k=random.randint(1, 3)) \n",
    "#         transform_pipeline = transforms.Compose([transforms.Resize((227, 227))] + selected_augmentations)  \n",
    "        \n",
    "#         augmented_img = transform_pipeline(img)\n",
    "#         save_path = os.path.join(save_dir, f\"aug_{i}_{os.path.basename(img_path)}\")\n",
    "#         augmented_img.save(save_path)\n",
    "\n",
    "# print(f\"Dataset is completely augmented \")"
   ]
  },
  {
   "cell_type": "code",
   "execution_count": 4,
   "id": "197a5c44",
   "metadata": {
    "execution": {
     "iopub.execute_input": "2025-02-10T11:49:18.175707Z",
     "iopub.status.busy": "2025-02-10T11:49:18.175494Z",
     "iopub.status.idle": "2025-02-10T11:49:18.178214Z",
     "shell.execute_reply": "2025-02-10T11:49:18.177582Z"
    },
    "papermill": {
     "duration": 0.008052,
     "end_time": "2025-02-10T11:49:18.179511",
     "exception": false,
     "start_time": "2025-02-10T11:49:18.171459",
     "status": "completed"
    },
    "tags": []
   },
   "outputs": [],
   "source": [
    "# import shutil\n",
    "# import os\n",
    "\n",
    "# def zip_folder(folder_path, output_zip_path):\n",
    "#     if not os.path.exists(folder_path):\n",
    "#         print(f\"Error: The folder '{folder_path}' does not exist.\")\n",
    "#         return\n",
    "#     shutil.make_archive(output_zip_path, 'zip', folder_path)\n",
    "#     print(f\"Folder '{folder_path}' has been zipped to '{output_zip_path}.zip'\")\n",
    "\n",
    "# zip_folder(\"/kaggle/working/augmented_dataset\", \"/kaggle/working/augmented_dataset_zip_file\")\n",
    "# print(f\"successfully zipped\")"
   ]
  },
  {
   "cell_type": "code",
   "execution_count": 5,
   "id": "0be40f09",
   "metadata": {
    "execution": {
     "iopub.execute_input": "2025-02-10T11:49:18.186681Z",
     "iopub.status.busy": "2025-02-10T11:49:18.186485Z",
     "iopub.status.idle": "2025-02-10T11:49:18.189410Z",
     "shell.execute_reply": "2025-02-10T11:49:18.188814Z"
    },
    "papermill": {
     "duration": 0.00786,
     "end_time": "2025-02-10T11:49:18.190657",
     "exception": false,
     "start_time": "2025-02-10T11:49:18.182797",
     "status": "completed"
    },
    "tags": []
   },
   "outputs": [],
   "source": [
    "augmented_dataset_path = \"/kaggle/input/thermal-dataset\""
   ]
  },
  {
   "cell_type": "code",
   "execution_count": 6,
   "id": "dc765bce",
   "metadata": {
    "execution": {
     "iopub.execute_input": "2025-02-10T11:49:18.197926Z",
     "iopub.status.busy": "2025-02-10T11:49:18.197720Z",
     "iopub.status.idle": "2025-02-10T11:49:23.391566Z",
     "shell.execute_reply": "2025-02-10T11:49:23.390848Z"
    },
    "papermill": {
     "duration": 5.199019,
     "end_time": "2025-02-10T11:49:23.393023",
     "exception": false,
     "start_time": "2025-02-10T11:49:18.194004",
     "status": "completed"
    },
    "tags": []
   },
   "outputs": [],
   "source": [
    "from torch.utils.data import DataLoader\n",
    "\n",
    "transform = transforms.Compose([\n",
    "    transforms.Resize((224, 224)), \n",
    "    transforms.ToTensor(),\n",
    "    transforms.Normalize(mean=[0.485, 0.456, 0.406], std=[0.229, 0.224, 0.225])\n",
    "])\n",
    "augmented_dataset = ImageFolder(root=augmented_dataset_path, transform=transform)\n",
    "train_size = int(0.6 * len(augmented_dataset))\n",
    "val_size = int(0.2 * len(augmented_dataset))\n",
    "test_size = len(augmented_dataset) - train_size - val_size\n",
    "train_dataset, val_dataset, test_dataset = torch.utils.data.random_split(augmented_dataset, [train_size, val_size, test_size])\n",
    "\n",
    "batch_size = 32\n",
    "train_loader = DataLoader(train_dataset, batch_size=batch_size, shuffle=True, num_workers=2)\n",
    "val_loader = DataLoader(val_dataset, batch_size=batch_size, shuffle=False, num_workers=2)\n",
    "test_loader = DataLoader(test_dataset, batch_size=batch_size, shuffle=False, num_workers=2)\n"
   ]
  },
  {
   "cell_type": "code",
   "execution_count": 7,
   "id": "5e80b171",
   "metadata": {
    "execution": {
     "iopub.execute_input": "2025-02-10T11:49:23.402418Z",
     "iopub.status.busy": "2025-02-10T11:49:23.402165Z",
     "iopub.status.idle": "2025-02-10T12:48:17.212073Z",
     "shell.execute_reply": "2025-02-10T12:48:17.210901Z"
    },
    "papermill": {
     "duration": 3533.816267,
     "end_time": "2025-02-10T12:48:17.213715",
     "exception": false,
     "start_time": "2025-02-10T11:49:23.397448",
     "status": "completed"
    },
    "tags": []
   },
   "outputs": [
    {
     "name": "stdout",
     "output_type": "stream",
     "text": [
      "Using device: cuda\n"
     ]
    },
    {
     "name": "stderr",
     "output_type": "stream",
     "text": [
      "Downloading: \"https://download.pytorch.org/models/vit_b_16-c867db91.pth\" to /root/.cache/torch/hub/checkpoints/vit_b_16-c867db91.pth\n",
      "100%|██████████| 330M/330M [00:04<00:00, 73.2MB/s]\n",
      "<ipython-input-7-8ce23c01ab78>:26: FutureWarning: `torch.cuda.amp.GradScaler(args...)` is deprecated. Please use `torch.amp.GradScaler('cuda', args...)` instead.\n",
      "  scaler = torch.cuda.amp.GradScaler()\n",
      "Epoch 1/70:   0%|          | 0/108 [00:00<?, ?it/s]<ipython-input-7-8ce23c01ab78>:45: FutureWarning: `torch.cuda.amp.autocast(args...)` is deprecated. Please use `torch.amp.autocast('cuda', args...)` instead.\n",
      "  with torch.cuda.amp.autocast():\n",
      "                                                             \r"
     ]
    },
    {
     "name": "stdout",
     "output_type": "stream",
     "text": [
      "Epoch 1/70, Loss: 1.5256, Accuracy: 37.57%\n"
     ]
    },
    {
     "name": "stderr",
     "output_type": "stream",
     "text": [
      "                                                             \r"
     ]
    },
    {
     "name": "stdout",
     "output_type": "stream",
     "text": [
      "Epoch 2/70, Loss: 1.2814, Accuracy: 50.99%\n"
     ]
    },
    {
     "name": "stderr",
     "output_type": "stream",
     "text": [
      "                                                             \r"
     ]
    },
    {
     "name": "stdout",
     "output_type": "stream",
     "text": [
      "Epoch 3/70, Loss: 1.1288, Accuracy: 60.83%\n"
     ]
    },
    {
     "name": "stderr",
     "output_type": "stream",
     "text": [
      "                                                             \r"
     ]
    },
    {
     "name": "stdout",
     "output_type": "stream",
     "text": [
      "Epoch 4/70, Loss: 1.0228, Accuracy: 65.81%\n"
     ]
    },
    {
     "name": "stderr",
     "output_type": "stream",
     "text": [
      "                                                             \r"
     ]
    },
    {
     "name": "stdout",
     "output_type": "stream",
     "text": [
      "Epoch 5/70, Loss: 0.9466, Accuracy: 68.84%\n"
     ]
    },
    {
     "name": "stderr",
     "output_type": "stream",
     "text": [
      "                                                             \r"
     ]
    },
    {
     "name": "stdout",
     "output_type": "stream",
     "text": [
      "Epoch 6/70, Loss: 0.8857, Accuracy: 71.14%\n"
     ]
    },
    {
     "name": "stderr",
     "output_type": "stream",
     "text": [
      "                                                             \r"
     ]
    },
    {
     "name": "stdout",
     "output_type": "stream",
     "text": [
      "Epoch 7/70, Loss: 0.8378, Accuracy: 72.71%\n"
     ]
    },
    {
     "name": "stderr",
     "output_type": "stream",
     "text": [
      "                                                             \r"
     ]
    },
    {
     "name": "stdout",
     "output_type": "stream",
     "text": [
      "Epoch 8/70, Loss: 0.7995, Accuracy: 74.20%\n"
     ]
    },
    {
     "name": "stderr",
     "output_type": "stream",
     "text": [
      "                                                             \r"
     ]
    },
    {
     "name": "stdout",
     "output_type": "stream",
     "text": [
      "Epoch 9/70, Loss: 0.7649, Accuracy: 75.28%\n"
     ]
    },
    {
     "name": "stderr",
     "output_type": "stream",
     "text": [
      "                                                              \r"
     ]
    },
    {
     "name": "stdout",
     "output_type": "stream",
     "text": [
      "Epoch 10/70, Loss: 0.7336, Accuracy: 76.79%\n"
     ]
    },
    {
     "name": "stderr",
     "output_type": "stream",
     "text": [
      "                                                              \r"
     ]
    },
    {
     "name": "stdout",
     "output_type": "stream",
     "text": [
      "Epoch 11/70, Loss: 0.7093, Accuracy: 77.61%\n"
     ]
    },
    {
     "name": "stderr",
     "output_type": "stream",
     "text": [
      "                                                              \r"
     ]
    },
    {
     "name": "stdout",
     "output_type": "stream",
     "text": [
      "Epoch 12/70, Loss: 0.6870, Accuracy: 78.45%\n"
     ]
    },
    {
     "name": "stderr",
     "output_type": "stream",
     "text": [
      "                                                              \r"
     ]
    },
    {
     "name": "stdout",
     "output_type": "stream",
     "text": [
      "Epoch 13/70, Loss: 0.6656, Accuracy: 79.15%\n"
     ]
    },
    {
     "name": "stderr",
     "output_type": "stream",
     "text": [
      "                                                              \r"
     ]
    },
    {
     "name": "stdout",
     "output_type": "stream",
     "text": [
      "Epoch 14/70, Loss: 0.6473, Accuracy: 79.76%\n"
     ]
    },
    {
     "name": "stderr",
     "output_type": "stream",
     "text": [
      "                                                              \r"
     ]
    },
    {
     "name": "stdout",
     "output_type": "stream",
     "text": [
      "Epoch 15/70, Loss: 0.6300, Accuracy: 80.26%\n"
     ]
    },
    {
     "name": "stderr",
     "output_type": "stream",
     "text": [
      "                                                              \r"
     ]
    },
    {
     "name": "stdout",
     "output_type": "stream",
     "text": [
      "Epoch 16/70, Loss: 0.6151, Accuracy: 80.78%\n"
     ]
    },
    {
     "name": "stderr",
     "output_type": "stream",
     "text": [
      "                                                              \r"
     ]
    },
    {
     "name": "stdout",
     "output_type": "stream",
     "text": [
      "Epoch 17/70, Loss: 0.6005, Accuracy: 81.19%\n"
     ]
    },
    {
     "name": "stderr",
     "output_type": "stream",
     "text": [
      "                                                              \r"
     ]
    },
    {
     "name": "stdout",
     "output_type": "stream",
     "text": [
      "Epoch 18/70, Loss: 0.5875, Accuracy: 81.51%\n"
     ]
    },
    {
     "name": "stderr",
     "output_type": "stream",
     "text": [
      "                                                              \r"
     ]
    },
    {
     "name": "stdout",
     "output_type": "stream",
     "text": [
      "Epoch 19/70, Loss: 0.5744, Accuracy: 82.09%\n"
     ]
    },
    {
     "name": "stderr",
     "output_type": "stream",
     "text": [
      "                                                              \r"
     ]
    },
    {
     "name": "stdout",
     "output_type": "stream",
     "text": [
      "Epoch 20/70, Loss: 0.5626, Accuracy: 82.32%\n"
     ]
    },
    {
     "name": "stderr",
     "output_type": "stream",
     "text": [
      "                                                              \r"
     ]
    },
    {
     "name": "stdout",
     "output_type": "stream",
     "text": [
      "Epoch 21/70, Loss: 0.5522, Accuracy: 82.82%\n"
     ]
    },
    {
     "name": "stderr",
     "output_type": "stream",
     "text": [
      "                                                              \r"
     ]
    },
    {
     "name": "stdout",
     "output_type": "stream",
     "text": [
      "Epoch 22/70, Loss: 0.5410, Accuracy: 83.02%\n"
     ]
    },
    {
     "name": "stderr",
     "output_type": "stream",
     "text": [
      "                                                              \r"
     ]
    },
    {
     "name": "stdout",
     "output_type": "stream",
     "text": [
      "Epoch 23/70, Loss: 0.5332, Accuracy: 83.63%\n"
     ]
    },
    {
     "name": "stderr",
     "output_type": "stream",
     "text": [
      "                                                              \r"
     ]
    },
    {
     "name": "stdout",
     "output_type": "stream",
     "text": [
      "Epoch 24/70, Loss: 0.5232, Accuracy: 83.84%\n"
     ]
    },
    {
     "name": "stderr",
     "output_type": "stream",
     "text": [
      "                                                              \r"
     ]
    },
    {
     "name": "stdout",
     "output_type": "stream",
     "text": [
      "Epoch 25/70, Loss: 0.5148, Accuracy: 84.04%\n"
     ]
    },
    {
     "name": "stderr",
     "output_type": "stream",
     "text": [
      "                                                              \r"
     ]
    },
    {
     "name": "stdout",
     "output_type": "stream",
     "text": [
      "Epoch 26/70, Loss: 0.5061, Accuracy: 84.45%\n"
     ]
    },
    {
     "name": "stderr",
     "output_type": "stream",
     "text": [
      "                                                              \r"
     ]
    },
    {
     "name": "stdout",
     "output_type": "stream",
     "text": [
      "Epoch 27/70, Loss: 0.4987, Accuracy: 84.62%\n"
     ]
    },
    {
     "name": "stderr",
     "output_type": "stream",
     "text": [
      "                                                              \r"
     ]
    },
    {
     "name": "stdout",
     "output_type": "stream",
     "text": [
      "Epoch 28/70, Loss: 0.4937, Accuracy: 84.74%\n"
     ]
    },
    {
     "name": "stderr",
     "output_type": "stream",
     "text": [
      "                                                              \r"
     ]
    },
    {
     "name": "stdout",
     "output_type": "stream",
     "text": [
      "Epoch 29/70, Loss: 0.4839, Accuracy: 85.06%\n"
     ]
    },
    {
     "name": "stderr",
     "output_type": "stream",
     "text": [
      "                                                              \r"
     ]
    },
    {
     "name": "stdout",
     "output_type": "stream",
     "text": [
      "Epoch 30/70, Loss: 0.4770, Accuracy: 85.12%\n"
     ]
    },
    {
     "name": "stderr",
     "output_type": "stream",
     "text": [
      "                                                              \r"
     ]
    },
    {
     "name": "stdout",
     "output_type": "stream",
     "text": [
      "Epoch 31/70, Loss: 0.4706, Accuracy: 85.12%\n"
     ]
    },
    {
     "name": "stderr",
     "output_type": "stream",
     "text": [
      "                                                              \r"
     ]
    },
    {
     "name": "stdout",
     "output_type": "stream",
     "text": [
      "Epoch 32/70, Loss: 0.4644, Accuracy: 85.61%\n"
     ]
    },
    {
     "name": "stderr",
     "output_type": "stream",
     "text": [
      "                                                              \r"
     ]
    },
    {
     "name": "stdout",
     "output_type": "stream",
     "text": [
      "Epoch 33/70, Loss: 0.4574, Accuracy: 85.82%\n"
     ]
    },
    {
     "name": "stderr",
     "output_type": "stream",
     "text": [
      "                                                              \r"
     ]
    },
    {
     "name": "stdout",
     "output_type": "stream",
     "text": [
      "Epoch 34/70, Loss: 0.4515, Accuracy: 85.93%\n"
     ]
    },
    {
     "name": "stderr",
     "output_type": "stream",
     "text": [
      "                                                              \r"
     ]
    },
    {
     "name": "stdout",
     "output_type": "stream",
     "text": [
      "Epoch 35/70, Loss: 0.4448, Accuracy: 86.40%\n"
     ]
    },
    {
     "name": "stderr",
     "output_type": "stream",
     "text": [
      "                                                              \r"
     ]
    },
    {
     "name": "stdout",
     "output_type": "stream",
     "text": [
      "Epoch 36/70, Loss: 0.4399, Accuracy: 86.28%\n"
     ]
    },
    {
     "name": "stderr",
     "output_type": "stream",
     "text": [
      "                                                              \r"
     ]
    },
    {
     "name": "stdout",
     "output_type": "stream",
     "text": [
      "Epoch 37/70, Loss: 0.4342, Accuracy: 86.43%\n"
     ]
    },
    {
     "name": "stderr",
     "output_type": "stream",
     "text": [
      "                                                              \r"
     ]
    },
    {
     "name": "stdout",
     "output_type": "stream",
     "text": [
      "Epoch 38/70, Loss: 0.4288, Accuracy: 86.78%\n"
     ]
    },
    {
     "name": "stderr",
     "output_type": "stream",
     "text": [
      "                                                              \r"
     ]
    },
    {
     "name": "stdout",
     "output_type": "stream",
     "text": [
      "Epoch 39/70, Loss: 0.4242, Accuracy: 86.66%\n"
     ]
    },
    {
     "name": "stderr",
     "output_type": "stream",
     "text": [
      "                                                              \r"
     ]
    },
    {
     "name": "stdout",
     "output_type": "stream",
     "text": [
      "Epoch 40/70, Loss: 0.4220, Accuracy: 86.98%\n"
     ]
    },
    {
     "name": "stderr",
     "output_type": "stream",
     "text": [
      "                                                              \r"
     ]
    },
    {
     "name": "stdout",
     "output_type": "stream",
     "text": [
      "Epoch 41/70, Loss: 0.4138, Accuracy: 87.13%\n"
     ]
    },
    {
     "name": "stderr",
     "output_type": "stream",
     "text": [
      "                                                              \r"
     ]
    },
    {
     "name": "stdout",
     "output_type": "stream",
     "text": [
      "Epoch 42/70, Loss: 0.4089, Accuracy: 87.36%\n"
     ]
    },
    {
     "name": "stderr",
     "output_type": "stream",
     "text": [
      "                                                              \r"
     ]
    },
    {
     "name": "stdout",
     "output_type": "stream",
     "text": [
      "Epoch 43/70, Loss: 0.4043, Accuracy: 87.39%\n"
     ]
    },
    {
     "name": "stderr",
     "output_type": "stream",
     "text": [
      "                                                              \r"
     ]
    },
    {
     "name": "stdout",
     "output_type": "stream",
     "text": [
      "Epoch 44/70, Loss: 0.4019, Accuracy: 87.83%\n"
     ]
    },
    {
     "name": "stderr",
     "output_type": "stream",
     "text": [
      "                                                              \r"
     ]
    },
    {
     "name": "stdout",
     "output_type": "stream",
     "text": [
      "Epoch 45/70, Loss: 0.3956, Accuracy: 87.83%\n"
     ]
    },
    {
     "name": "stderr",
     "output_type": "stream",
     "text": [
      "                                                              \r"
     ]
    },
    {
     "name": "stdout",
     "output_type": "stream",
     "text": [
      "Epoch 46/70, Loss: 0.3913, Accuracy: 87.86%\n"
     ]
    },
    {
     "name": "stderr",
     "output_type": "stream",
     "text": [
      "                                                              \r"
     ]
    },
    {
     "name": "stdout",
     "output_type": "stream",
     "text": [
      "Epoch 47/70, Loss: 0.3873, Accuracy: 88.35%\n"
     ]
    },
    {
     "name": "stderr",
     "output_type": "stream",
     "text": [
      "                                                              \r"
     ]
    },
    {
     "name": "stdout",
     "output_type": "stream",
     "text": [
      "Epoch 48/70, Loss: 0.3856, Accuracy: 87.94%\n"
     ]
    },
    {
     "name": "stderr",
     "output_type": "stream",
     "text": [
      "                                                              \r"
     ]
    },
    {
     "name": "stdout",
     "output_type": "stream",
     "text": [
      "Epoch 49/70, Loss: 0.3793, Accuracy: 88.47%\n"
     ]
    },
    {
     "name": "stderr",
     "output_type": "stream",
     "text": [
      "                                                              \r"
     ]
    },
    {
     "name": "stdout",
     "output_type": "stream",
     "text": [
      "Epoch 50/70, Loss: 0.3765, Accuracy: 88.61%\n"
     ]
    },
    {
     "name": "stderr",
     "output_type": "stream",
     "text": [
      "                                                              \r"
     ]
    },
    {
     "name": "stdout",
     "output_type": "stream",
     "text": [
      "Epoch 51/70, Loss: 0.3725, Accuracy: 88.56%\n"
     ]
    },
    {
     "name": "stderr",
     "output_type": "stream",
     "text": [
      "                                                              \r"
     ]
    },
    {
     "name": "stdout",
     "output_type": "stream",
     "text": [
      "Epoch 52/70, Loss: 0.3698, Accuracy: 88.91%\n"
     ]
    },
    {
     "name": "stderr",
     "output_type": "stream",
     "text": [
      "                                                              \r"
     ]
    },
    {
     "name": "stdout",
     "output_type": "stream",
     "text": [
      "Epoch 53/70, Loss: 0.3652, Accuracy: 88.99%\n"
     ]
    },
    {
     "name": "stderr",
     "output_type": "stream",
     "text": [
      "                                                              \r"
     ]
    },
    {
     "name": "stdout",
     "output_type": "stream",
     "text": [
      "Epoch 54/70, Loss: 0.3620, Accuracy: 89.17%\n"
     ]
    },
    {
     "name": "stderr",
     "output_type": "stream",
     "text": [
      "                                                              \r"
     ]
    },
    {
     "name": "stdout",
     "output_type": "stream",
     "text": [
      "Epoch 55/70, Loss: 0.3594, Accuracy: 89.31%\n"
     ]
    },
    {
     "name": "stderr",
     "output_type": "stream",
     "text": [
      "                                                              \r"
     ]
    },
    {
     "name": "stdout",
     "output_type": "stream",
     "text": [
      "Epoch 56/70, Loss: 0.3547, Accuracy: 89.31%\n"
     ]
    },
    {
     "name": "stderr",
     "output_type": "stream",
     "text": [
      "                                                              \r"
     ]
    },
    {
     "name": "stdout",
     "output_type": "stream",
     "text": [
      "Epoch 57/70, Loss: 0.3515, Accuracy: 89.69%\n"
     ]
    },
    {
     "name": "stderr",
     "output_type": "stream",
     "text": [
      "                                                              \r"
     ]
    },
    {
     "name": "stdout",
     "output_type": "stream",
     "text": [
      "Epoch 58/70, Loss: 0.3499, Accuracy: 89.75%\n"
     ]
    },
    {
     "name": "stderr",
     "output_type": "stream",
     "text": [
      "                                                              \r"
     ]
    },
    {
     "name": "stdout",
     "output_type": "stream",
     "text": [
      "Epoch 59/70, Loss: 0.3466, Accuracy: 89.84%\n"
     ]
    },
    {
     "name": "stderr",
     "output_type": "stream",
     "text": [
      "                                                              \r"
     ]
    },
    {
     "name": "stdout",
     "output_type": "stream",
     "text": [
      "Epoch 60/70, Loss: 0.3438, Accuracy: 90.04%\n"
     ]
    },
    {
     "name": "stderr",
     "output_type": "stream",
     "text": [
      "                                                              \r"
     ]
    },
    {
     "name": "stdout",
     "output_type": "stream",
     "text": [
      "Epoch 61/70, Loss: 0.3387, Accuracy: 90.13%\n"
     ]
    },
    {
     "name": "stderr",
     "output_type": "stream",
     "text": [
      "                                                              \r"
     ]
    },
    {
     "name": "stdout",
     "output_type": "stream",
     "text": [
      "Epoch 62/70, Loss: 0.3381, Accuracy: 90.16%\n"
     ]
    },
    {
     "name": "stderr",
     "output_type": "stream",
     "text": [
      "                                                              \r"
     ]
    },
    {
     "name": "stdout",
     "output_type": "stream",
     "text": [
      "Epoch 63/70, Loss: 0.3365, Accuracy: 90.27%\n"
     ]
    },
    {
     "name": "stderr",
     "output_type": "stream",
     "text": [
      "                                                              \r"
     ]
    },
    {
     "name": "stdout",
     "output_type": "stream",
     "text": [
      "Epoch 64/70, Loss: 0.3320, Accuracy: 90.30%\n"
     ]
    },
    {
     "name": "stderr",
     "output_type": "stream",
     "text": [
      "                                                              \r"
     ]
    },
    {
     "name": "stdout",
     "output_type": "stream",
     "text": [
      "Epoch 65/70, Loss: 0.3293, Accuracy: 90.54%\n"
     ]
    },
    {
     "name": "stderr",
     "output_type": "stream",
     "text": [
      "                                                              \r"
     ]
    },
    {
     "name": "stdout",
     "output_type": "stream",
     "text": [
      "Epoch 66/70, Loss: 0.3260, Accuracy: 90.74%\n"
     ]
    },
    {
     "name": "stderr",
     "output_type": "stream",
     "text": [
      "                                                              \r"
     ]
    },
    {
     "name": "stdout",
     "output_type": "stream",
     "text": [
      "Epoch 67/70, Loss: 0.3248, Accuracy: 90.83%\n"
     ]
    },
    {
     "name": "stderr",
     "output_type": "stream",
     "text": [
      "                                                              \r"
     ]
    },
    {
     "name": "stdout",
     "output_type": "stream",
     "text": [
      "Epoch 68/70, Loss: 0.3204, Accuracy: 90.83%\n"
     ]
    },
    {
     "name": "stderr",
     "output_type": "stream",
     "text": [
      "                                                              \r"
     ]
    },
    {
     "name": "stdout",
     "output_type": "stream",
     "text": [
      "Epoch 69/70, Loss: 0.3196, Accuracy: 90.65%\n"
     ]
    },
    {
     "name": "stderr",
     "output_type": "stream",
     "text": [
      "                                                              \r"
     ]
    },
    {
     "name": "stdout",
     "output_type": "stream",
     "text": [
      "Epoch 70/70, Loss: 0.3154, Accuracy: 90.80%\n",
      "\n",
      "Model saved as vit_b_16_trained.pth\n"
     ]
    }
   ],
   "source": [
    "import torch\n",
    "import torch.nn as nn\n",
    "import torch.optim as optim\n",
    "from torch.utils.data import DataLoader\n",
    "from tqdm import tqdm\n",
    "import torchvision.models as models\n",
    "\n",
    "device = torch.device(\"cuda\" if torch.cuda.is_available() else \"cpu\")\n",
    "print(f\"Using device: {device}\")\n",
    "\n",
    "model = models.vit_b_16(weights=models.ViT_B_16_Weights.IMAGENET1K_V1)\n",
    "num_ftrs = model.heads.head.in_features\n",
    "num_classes = 6\n",
    "model.heads.head = nn.Linear(num_ftrs, num_classes)\n",
    "\n",
    "for param in model.encoder.parameters():\n",
    "    param.requires_grad = False\n",
    "\n",
    "for param in model.heads.parameters():\n",
    "    param.requires_grad = True\n",
    "\n",
    "model = model.to(device)\n",
    "\n",
    "criterion = nn.CrossEntropyLoss()\n",
    "optimizer = optim.Adam(model.heads.parameters(), lr=0.0001)\n",
    "scaler = torch.cuda.amp.GradScaler()\n",
    "\n",
    "train_loader = DataLoader(train_dataset, batch_size=32, shuffle=True, num_workers=4, pin_memory=True)\n",
    "val_loader = DataLoader(val_dataset, batch_size=32, shuffle=False, num_workers=4, pin_memory=True)\n",
    "test_loader = DataLoader(test_dataset, batch_size=32, shuffle=False, num_workers=4, pin_memory=True)\n",
    "\n",
    "num_epochs = 70\n",
    "train_acc_history = []\n",
    "\n",
    "for epoch in range(num_epochs):\n",
    "    model.train()\n",
    "    correct = 0\n",
    "    total = 0\n",
    "    running_loss = 0.0\n",
    "\n",
    "    for images, labels in tqdm(train_loader, desc=f\"Epoch {epoch+1}/{num_epochs}\", leave=False):\n",
    "        images, labels = images.to(device), labels.to(device)\n",
    "        optimizer.zero_grad()\n",
    "\n",
    "        with torch.cuda.amp.autocast():\n",
    "            outputs = model(images)\n",
    "            loss = criterion(outputs, labels)\n",
    "\n",
    "        scaler.scale(loss).backward()\n",
    "        scaler.step(optimizer)\n",
    "        scaler.update()\n",
    "\n",
    "        running_loss += loss.item()\n",
    "        _, predicted = torch.max(outputs, 1)\n",
    "        correct += (predicted == labels).sum().item()\n",
    "        total += labels.size(0)\n",
    "\n",
    "    train_acc = 100 * correct / total\n",
    "    train_acc_history.append(train_acc)\n",
    "    print(f\"Epoch {epoch+1}/{num_epochs}, Loss: {running_loss / len(train_loader):.4f}, Accuracy: {train_acc:.2f}%\")\n",
    "\n",
    "torch.save(model.state_dict(), \"vit_b_16_trained.pth\")\n",
    "print(\"\\nModel saved as vit_b_16_trained.pth\")\n"
   ]
  },
  {
   "cell_type": "code",
   "execution_count": 8,
   "id": "11576993",
   "metadata": {
    "execution": {
     "iopub.execute_input": "2025-02-10T12:48:17.927249Z",
     "iopub.status.busy": "2025-02-10T12:48:17.926808Z",
     "iopub.status.idle": "2025-02-10T12:48:52.930964Z",
     "shell.execute_reply": "2025-02-10T12:48:52.929899Z"
    },
    "papermill": {
     "duration": 35.792568,
     "end_time": "2025-02-10T12:48:53.358540",
     "exception": false,
     "start_time": "2025-02-10T12:48:17.565972",
     "status": "completed"
    },
    "tags": []
   },
   "outputs": [
    {
     "name": "stdout",
     "output_type": "stream",
     "text": [
      "\n",
      " Final Per-Class Training Accuracy:\n",
      "\n",
      "BLB: Training = 93.55%\n",
      "Blast: Training = 80.34%\n",
      "healthy: Training = 90.17%\n",
      "hispa: Training = 95.16%\n",
      "leaf folder: Training = 99.47%\n",
      "leaf spot: Training = 82.55%\n",
      "\n",
      " Final Per-Class Validation Accuracy:\n",
      "\n",
      "BLB: Validation = 90.89%\n",
      "Blast: Validation = 69.05%\n",
      "healthy: Validation = 83.33%\n",
      "hispa: Validation = 91.94%\n",
      "leaf folder: Validation = 96.43%\n",
      "leaf spot: Validation = 72.39%\n",
      "\n",
      " Final Per-Class Test Accuracy:\n",
      "\n",
      "BLB: Test = 92.00%\n",
      "Blast: Test = 72.22%\n",
      "healthy: Test = 87.57%\n",
      "hispa: Test = 92.66%\n",
      "leaf folder: Test = 98.33%\n",
      "leaf spot: Test = 71.22%\n"
     ]
    }
   ],
   "source": [
    "import numpy as np\n",
    "import torch\n",
    "\n",
    "class_names = augmented_dataset.classes  \n",
    "num_classes = len(class_names)  \n",
    "\n",
    "def calculate_per_class_accuracy(model, data_loaders, device, datasets=[\"Training\", \"Validation\", \"Test\"]):\n",
    "    for dataset_type, data_loader in zip(datasets, data_loaders):\n",
    "        model.eval()\n",
    "        class_correct = np.zeros(num_classes) \n",
    "        class_total = np.zeros(num_classes)\n",
    "\n",
    "        with torch.no_grad():\n",
    "            for images, labels in data_loader:\n",
    "                images, labels = images.to(device), labels.to(device)\n",
    "                outputs = model(images)\n",
    "                _, predicted = torch.max(outputs, 1)\n",
    "\n",
    "                for i in range(len(labels)):\n",
    "                    label = labels[i].item()\n",
    "                    class_correct[label] += (predicted[i] == label).item()\n",
    "                    class_total[label] += 1\n",
    "\n",
    "        print(f\"\\n Final Per-Class {dataset_type} Accuracy:\\n\")\n",
    "        for i in range(num_classes):  \n",
    "            if class_total[i] > 0:\n",
    "                accuracy = 100 * class_correct[i] / class_total[i]\n",
    "                print(f\"{class_names[i]}: {dataset_type} = {accuracy:.2f}%\")\n",
    "            else:\n",
    "                print(f\"{class_names[i]}: {dataset_type} = No samples available \")\n",
    "\n",
    "data_loaders = [train_loader, val_loader, test_loader]\n",
    "datasets = [\"Training\", \"Validation\", \"Test\"]\n",
    "calculate_per_class_accuracy(model, data_loaders, device, datasets=datasets)"
   ]
  },
  {
   "cell_type": "code",
   "execution_count": 9,
   "id": "f259c739",
   "metadata": {
    "execution": {
     "iopub.execute_input": "2025-02-10T12:48:54.060132Z",
     "iopub.status.busy": "2025-02-10T12:48:54.059764Z",
     "iopub.status.idle": "2025-02-10T12:49:09.528998Z",
     "shell.execute_reply": "2025-02-10T12:49:09.528083Z"
    },
    "papermill": {
     "duration": 15.820187,
     "end_time": "2025-02-10T12:49:09.530581",
     "exception": false,
     "start_time": "2025-02-10T12:48:53.710394",
     "status": "completed"
    },
    "tags": []
   },
   "outputs": [
    {
     "name": "stdout",
     "output_type": "stream",
     "text": [
      "Test Accuracy: 87.09%\n"
     ]
    },
    {
     "data": {
      "image/png": "[encoded data removed]",
      "text/plain": [
       "<Figure size 1000x500 with 1 Axes>"
      ]
     },
     "metadata": {},
     "output_type": "display_data"
    }
   ],
   "source": [
    "import numpy as np\n",
    "import torch\n",
    "from sklearn.metrics import precision_recall_curve, average_precision_score\n",
    "import matplotlib.pyplot as plt\n",
    "y_true = []\n",
    "y_scores = []\n",
    "model.eval()\n",
    "\n",
    "correct = 0\n",
    "total = 0\n",
    "with torch.no_grad():\n",
    "    for images, labels in test_loader:\n",
    "        images, labels = images.to(device), labels.to(device)\n",
    "        outputs = model(images)\n",
    "        _, predicted = torch.max(outputs, 1)\n",
    "        correct += (predicted == labels).sum().item()\n",
    "        total += labels.size(0)\n",
    "\n",
    "test_acc = 100 * correct / total\n",
    "print(f\"Test Accuracy: {test_acc:.2f}%\")\n",
    "with torch.no_grad():\n",
    "    for images, labels in test_loader:\n",
    "        images, labels = images.to(device), labels.to(device)\n",
    "        outputs = model(images)\n",
    "        probs = torch.nn.functional.softmax(outputs, dim=1)\n",
    "        \n",
    "        y_true.extend(labels.cpu().numpy())\n",
    "        y_scores.extend(probs.cpu().numpy())\n",
    "\n",
    "y_true = np.array(y_true)\n",
    "y_scores = np.array(y_scores)\n",
    "\n",
    "plt.figure(figsize=(10, 5))\n",
    "for i in range(len(class_names)):\n",
    "    precision, recall, _ = precision_recall_curve(y_true == i, y_scores[:, i])\n",
    "    avg_precision = average_precision_score(y_true == i, y_scores[:, i])\n",
    "    plt.plot(recall, precision, label=f\"{class_names[i]} (AP={avg_precision:.2f})\")\n",
    "\n",
    "plt.xlabel(\"Recall\")\n",
    "plt.ylabel(\"Precision\")\n",
    "plt.title(\"Precision-Recall Curve for Plant Disease Classification\")\n",
    "plt.legend()\n",
    "plt.show()"
   ]
  },
  {
   "cell_type": "code",
   "execution_count": 10,
   "id": "a2fa5956",
   "metadata": {
    "execution": {
     "iopub.execute_input": "2025-02-10T12:49:10.293803Z",
     "iopub.status.busy": "2025-02-10T12:49:10.293315Z",
     "iopub.status.idle": "2025-02-10T12:49:10.298570Z",
     "shell.execute_reply": "2025-02-10T12:49:10.297748Z"
    },
    "papermill": {
     "duration": 0.359132,
     "end_time": "2025-02-10T12:49:10.299895",
     "exception": false,
     "start_time": "2025-02-10T12:49:09.940763",
     "status": "completed"
    },
    "tags": []
   },
   "outputs": [
    {
     "data": {
      "text/plain": [
       "' \\n\\nUNet, Resnet, SegNet, GoogleNet, VGG, AlexNet, IncepTon V3, R-CNN, YOLOv11,\\nViT, EfficientNetv2\\n'"
      ]
     },
     "execution_count": 10,
     "metadata": {},
     "output_type": "execute_result"
    }
   ],
   "source": [
    "\"\"\" \n",
    "\n",
    "UNet, Resnet, SegNet, GoogleNet, VGG, AlexNet, IncepTon V3, R-CNN, YOLOv11,\n",
    "ViT, EfficientNetv2\n",
    "\"\"\""
   ]
  },
  {
   "cell_type": "code",
   "execution_count": 11,
   "id": "612465f3",
   "metadata": {
    "execution": {
     "iopub.execute_input": "2025-02-10T12:49:11.012090Z",
     "iopub.status.busy": "2025-02-10T12:49:11.011741Z",
     "iopub.status.idle": "2025-02-10T12:49:11.015227Z",
     "shell.execute_reply": "2025-02-10T12:49:11.014367Z"
    },
    "papermill": {
     "duration": 0.366715,
     "end_time": "2025-02-10T12:49:11.016545",
     "exception": false,
     "start_time": "2025-02-10T12:49:10.649830",
     "status": "completed"
    },
    "tags": []
   },
   "outputs": [],
   "source": [
    "# alexnet , resnet , googlenet , unet , vgg\n",
    "# segnet , inception , rcnn , vit  , efficient net"
   ]
  }
 ],
 "metadata": {
  "kaggle": {
   "accelerator": "gpu",
   "dataSources": [
    {
     "datasetId": 608236,
     "sourceId": 1091061,
     "sourceType": "datasetVersion"
    },
    {
     "datasetId": 6638340,
     "sourceId": 10710646,
     "sourceType": "datasetVersion"
    }
   ],
   "dockerImageVersionId": 30886,
   "isGpuEnabled": true,
   "isInternetEnabled": true,
   "language": "python",
   "sourceType": "notebook"
  },
  "kernelspec": {
   "display_name": "Python 3",
   "language": "python",
   "name": "python3"
  },
  "language_info": {
   "codemirror_mode": {
    "name": "ipython",
    "version": 3
   },
   "file_extension": ".py",
   "mimetype": "text/x-python",
   "name": "python",
   "nbconvert_exporter": "python",
   "pygments_lexer": "ipython3",
   "version": "3.10.12"
  },
  "papermill": {
   "default_parameters": {},
   "duration": 3614.691653,
   "end_time": "2025-02-10T12:49:14.089223",
   "environment_variables": {},
   "exception": null,
   "input_path": "__notebook__.ipynb",
   "output_path": "__notebook__.ipynb",
   "parameters": {},
   "start_time": "2025-02-10T11:48:59.397570",
   "version": "2.6.0"
  }
 },
 "nbformat": 4,
 "nbformat_minor": 5
}
