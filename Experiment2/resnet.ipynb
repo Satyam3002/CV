{
 "cells": [
  {
   "cell_type": "code",
   "execution_count": 1,
   "id": "5a0f52af",
   "metadata": {
    "_cell_guid": "b1076dfc-b9ad-4769-8c92-a6c4dae69d19",
    "_uuid": "8f2839f25d086af736a60e9eeb907d3b93b6e0e5",
    "execution": {
     "iopub.execute_input": "2025-02-10T11:15:59.711137Z",
     "iopub.status.busy": "2025-02-10T11:15:59.710833Z",
     "iopub.status.idle": "2025-02-10T11:16:07.566481Z",
     "shell.execute_reply": "2025-02-10T11:16:07.565780Z"
    },
    "papermill": {
     "duration": 7.860847,
     "end_time": "2025-02-10T11:16:07.568051",
     "exception": false,
     "start_time": "2025-02-10T11:15:59.707204",
     "status": "completed"
    },
    "tags": []
   },
   "outputs": [],
   "source": [
    "import numpy as np \n",
    "import pandas as pd \n",
    "import os\n",
    "import os\n",
    "import torch\n",
    "import torchvision.transforms as transforms\n",
    "from torchvision.datasets import ImageFolder\n",
    "from PIL import Image\n",
    "import random\n",
    "# for dirname, _, filenames in os.walk('/kaggle/input'):\n",
    "#     for filename in filenames:\n",
    "#         print(os.path.join(dirname, filename))"
   ]
  },
  {
   "cell_type": "code",
   "execution_count": 2,
   "id": "b337648d",
   "metadata": {
    "execution": {
     "iopub.execute_input": "2025-02-10T11:16:07.574287Z",
     "iopub.status.busy": "2025-02-10T11:16:07.573950Z",
     "iopub.status.idle": "2025-02-10T11:16:07.577506Z",
     "shell.execute_reply": "2025-02-10T11:16:07.576779Z"
    },
    "papermill": {
     "duration": 0.007824,
     "end_time": "2025-02-10T11:16:07.578757",
     "exception": false,
     "start_time": "2025-02-10T11:16:07.570933",
     "status": "completed"
    },
    "tags": []
   },
   "outputs": [],
   "source": [
    "# import os\n",
    "# import torch\n",
    "# import torchvision.transforms as transforms\n",
    "# from torchvision.datasets import ImageFolder\n",
    "# from PIL import Image\n",
    "# import random\n",
    "\n",
    "# dataset_path = \"/kaggle/input/thermal-images-diseased-healthy-leaves-paddy/thermal images UL\"\n",
    "# augmented_dataset_path = \"/kaggle/working/augmented_dataset\"  \n",
    "# possible_augmentations = [\n",
    "#     transforms.RandomHorizontalFlip(p=1.0),  \n",
    "#     transforms.RandomRotation(degrees=30),  \n",
    "#     transforms.ColorJitter(brightness=0.3, contrast=0.3, saturation=0.3, hue=0.1),  \n",
    "#     transforms.RandomAffine(degrees=0, translate=(0.2, 0.2)),  \n",
    "#     transforms.RandomPerspective(distortion_scale=0.4, p=1.0),  \n",
    "#     transforms.GaussianBlur(kernel_size=5, sigma=(0.1, 3.0)),  \n",
    "# ]\n",
    "\n",
    "# original_dataset = ImageFolder(root=dataset_path)\n",
    "# if not os.path.exists(augmented_dataset_path):\n",
    "#     os.makedirs(augmented_dataset_path)\n",
    "\n",
    "# for class_name in original_dataset.classes:\n",
    "#     os.makedirs(os.path.join(augmented_dataset_path, class_name), exist_ok=True)\n",
    "\n",
    "# num_augmentations = 8  \n",
    "# for img_path, label in original_dataset.samples:\n",
    "#     img = Image.open(img_path).convert(\"RGB\")\n",
    "#     class_name = original_dataset.classes[label]\n",
    "#     save_dir = os.path.join(augmented_dataset_path, class_name)\n",
    "\n",
    "#     img.save(os.path.join(save_dir, os.path.basename(img_path)))\n",
    "#     for i in range(num_augmentations):\n",
    "#         selected_augmentations = random.sample(possible_augmentations, k=random.randint(1, 3)) \n",
    "#         transform_pipeline = transforms.Compose([transforms.Resize((227, 227))] + selected_augmentations)  \n",
    "        \n",
    "#         augmented_img = transform_pipeline(img)\n",
    "#         save_path = os.path.join(save_dir, f\"aug_{i}_{os.path.basename(img_path)}\")\n",
    "#         augmented_img.save(save_path)\n",
    "\n",
    "# print(f\"Dataset is completely augmented \")"
   ]
  },
  {
   "cell_type": "code",
   "execution_count": 3,
   "id": "22d41ba5",
   "metadata": {
    "execution": {
     "iopub.execute_input": "2025-02-10T11:16:07.583944Z",
     "iopub.status.busy": "2025-02-10T11:16:07.583734Z",
     "iopub.status.idle": "2025-02-10T11:16:07.586345Z",
     "shell.execute_reply": "2025-02-10T11:16:07.585766Z"
    },
    "papermill": {
     "duration": 0.006591,
     "end_time": "2025-02-10T11:16:07.587595",
     "exception": false,
     "start_time": "2025-02-10T11:16:07.581004",
     "status": "completed"
    },
    "tags": []
   },
   "outputs": [],
   "source": [
    "# import shutil\n",
    "# import os\n",
    "\n",
    "# def zip_folder(folder_path, output_zip_path):\n",
    "#     if not os.path.exists(folder_path):\n",
    "#         print(f\"Error: The folder '{folder_path}' does not exist.\")\n",
    "#         return\n",
    "#     shutil.make_archive(output_zip_path, 'zip', folder_path)\n",
    "#     print(f\"Folder '{folder_path}' has been zipped to '{output_zip_path}.zip'\")\n",
    "\n",
    "# zip_folder(\"/kaggle/working/augmented_dataset\", \"/kaggle/working/augmented_dataset_zip_file\")\n",
    "# print(f\"successfully zipped\")"
   ]
  },
  {
   "cell_type": "code",
   "execution_count": 4,
   "id": "790bd97c",
   "metadata": {
    "execution": {
     "iopub.execute_input": "2025-02-10T11:16:07.592787Z",
     "iopub.status.busy": "2025-02-10T11:16:07.592539Z",
     "iopub.status.idle": "2025-02-10T11:16:07.595450Z",
     "shell.execute_reply": "2025-02-10T11:16:07.594868Z"
    },
    "papermill": {
     "duration": 0.006682,
     "end_time": "2025-02-10T11:16:07.596540",
     "exception": false,
     "start_time": "2025-02-10T11:16:07.589858",
     "status": "completed"
    },
    "tags": []
   },
   "outputs": [],
   "source": [
    "augmented_dataset_path = \"/kaggle/input/thermal-dataset\""
   ]
  },
  {
   "cell_type": "code",
   "execution_count": 5,
   "id": "f23562a9",
   "metadata": {
    "execution": {
     "iopub.execute_input": "2025-02-10T11:16:07.601492Z",
     "iopub.status.busy": "2025-02-10T11:16:07.601288Z",
     "iopub.status.idle": "2025-02-10T11:16:12.427322Z",
     "shell.execute_reply": "2025-02-10T11:16:12.426588Z"
    },
    "papermill": {
     "duration": 4.830274,
     "end_time": "2025-02-10T11:16:12.428998",
     "exception": false,
     "start_time": "2025-02-10T11:16:07.598724",
     "status": "completed"
    },
    "tags": []
   },
   "outputs": [],
   "source": [
    "from torch.utils.data import DataLoader\n",
    "\n",
    "transform = transforms.Compose([\n",
    "    transforms.Resize((227, 227)), \n",
    "    transforms.ToTensor(),\n",
    "    transforms.Normalize(mean=[0.485, 0.456, 0.406], std=[0.229, 0.224, 0.225])\n",
    "])\n",
    "augmented_dataset = ImageFolder(root=augmented_dataset_path, transform=transform)\n",
    "train_size = int(0.6 * len(augmented_dataset))\n",
    "val_size = int(0.2 * len(augmented_dataset))\n",
    "test_size = len(augmented_dataset) - train_size - val_size\n",
    "train_dataset, val_dataset, test_dataset = torch.utils.data.random_split(augmented_dataset, [train_size, val_size, test_size])\n",
    "\n",
    "batch_size = 32\n",
    "train_loader = DataLoader(train_dataset, batch_size=batch_size, shuffle=True, num_workers=2)\n",
    "val_loader = DataLoader(val_dataset, batch_size=batch_size, shuffle=False, num_workers=2)\n",
    "test_loader = DataLoader(test_dataset, batch_size=batch_size, shuffle=False, num_workers=2)"
   ]
  },
  {
   "cell_type": "code",
   "execution_count": 6,
   "id": "4dca5dfb",
   "metadata": {
    "execution": {
     "iopub.execute_input": "2025-02-10T11:16:12.434855Z",
     "iopub.status.busy": "2025-02-10T11:16:12.434566Z",
     "iopub.status.idle": "2025-02-10T11:23:34.140891Z",
     "shell.execute_reply": "2025-02-10T11:23:34.139841Z"
    },
    "papermill": {
     "duration": 441.716475,
     "end_time": "2025-02-10T11:23:34.148104",
     "exception": false,
     "start_time": "2025-02-10T11:16:12.431629",
     "status": "completed"
    },
    "tags": []
   },
   "outputs": [
    {
     "name": "stdout",
     "output_type": "stream",
     "text": [
      "Using device: cuda\n"
     ]
    },
    {
     "name": "stderr",
     "output_type": "stream",
     "text": [
      "Downloading: \"https://download.pytorch.org/models/resnet50-0676ba61.pth\" to /root/.cache/torch/hub/checkpoints/resnet50-0676ba61.pth\n",
      "100%|██████████| 97.8M/97.8M [00:00<00:00, 195MB/s]\n",
      "<ipython-input-6-a8d0d81e4259>:24: FutureWarning: `torch.cuda.amp.GradScaler(args...)` is deprecated. Please use `torch.amp.GradScaler('cuda', args...)` instead.\n",
      "  scaler = torch.cuda.amp.GradScaler()\n",
      "<ipython-input-6-a8d0d81e4259>:46: FutureWarning: `torch.cuda.amp.autocast(args...)` is deprecated. Please use `torch.amp.autocast('cuda', args...)` instead.\n",
      "  with torch.cuda.amp.autocast():\n"
     ]
    },
    {
     "name": "stdout",
     "output_type": "stream",
     "text": [
      "Epoch 1/70, Loss: 1.5995, Accuracy: 35.09%\n",
      "Epoch 2/70, Loss: 1.4836, Accuracy: 41.64%\n",
      "Epoch 3/70, Loss: 1.4030, Accuracy: 45.72%\n",
      "Epoch 4/70, Loss: 1.3372, Accuracy: 47.99%\n",
      "Epoch 5/70, Loss: 1.2791, Accuracy: 51.81%\n",
      "Epoch 6/70, Loss: 1.2305, Accuracy: 54.57%\n",
      "Epoch 7/70, Loss: 1.1858, Accuracy: 56.52%\n",
      "Epoch 8/70, Loss: 1.1563, Accuracy: 57.37%\n",
      "Epoch 9/70, Loss: 1.1218, Accuracy: 60.05%\n",
      "Epoch 10/70, Loss: 1.0908, Accuracy: 61.97%\n",
      "Epoch 11/70, Loss: 1.0715, Accuracy: 61.71%\n",
      "Epoch 12/70, Loss: 1.0448, Accuracy: 62.75%\n",
      "Epoch 13/70, Loss: 1.0255, Accuracy: 64.39%\n",
      "Epoch 14/70, Loss: 1.0230, Accuracy: 63.72%\n",
      "Epoch 15/70, Loss: 0.9926, Accuracy: 65.49%\n",
      "Epoch 16/70, Loss: 0.9791, Accuracy: 66.51%\n",
      "Epoch 17/70, Loss: 0.9643, Accuracy: 66.39%\n",
      "Epoch 18/70, Loss: 0.9410, Accuracy: 68.00%\n",
      "Epoch 19/70, Loss: 0.9411, Accuracy: 67.24%\n",
      "Epoch 20/70, Loss: 0.9246, Accuracy: 68.00%\n",
      "Epoch 21/70, Loss: 0.9123, Accuracy: 69.13%\n",
      "Epoch 22/70, Loss: 0.8949, Accuracy: 69.63%\n",
      "Epoch 23/70, Loss: 0.8906, Accuracy: 69.86%\n",
      "Epoch 24/70, Loss: 0.8890, Accuracy: 69.22%\n",
      "Epoch 25/70, Loss: 0.8758, Accuracy: 69.45%\n",
      "Epoch 26/70, Loss: 0.8620, Accuracy: 71.23%\n",
      "Epoch 27/70, Loss: 0.8602, Accuracy: 70.91%\n",
      "Epoch 28/70, Loss: 0.8498, Accuracy: 70.79%\n",
      "Epoch 29/70, Loss: 0.8399, Accuracy: 71.29%\n",
      "Epoch 30/70, Loss: 0.8380, Accuracy: 71.49%\n",
      "Epoch 31/70, Loss: 0.8208, Accuracy: 72.02%\n",
      "Epoch 32/70, Loss: 0.8309, Accuracy: 71.17%\n",
      "Epoch 33/70, Loss: 0.8174, Accuracy: 71.81%\n",
      "Epoch 34/70, Loss: 0.8054, Accuracy: 72.77%\n",
      "Epoch 35/70, Loss: 0.8039, Accuracy: 72.45%\n",
      "Epoch 36/70, Loss: 0.8005, Accuracy: 73.09%\n",
      "Epoch 37/70, Loss: 0.7998, Accuracy: 72.54%\n",
      "Epoch 38/70, Loss: 0.7797, Accuracy: 73.70%\n",
      "Epoch 39/70, Loss: 0.7801, Accuracy: 73.41%\n",
      "Epoch 40/70, Loss: 0.7852, Accuracy: 72.98%\n",
      "Epoch 41/70, Loss: 0.7775, Accuracy: 72.98%\n",
      "Epoch 42/70, Loss: 0.7727, Accuracy: 72.80%\n",
      "Epoch 43/70, Loss: 0.7797, Accuracy: 72.86%\n",
      "Epoch 44/70, Loss: 0.7590, Accuracy: 73.44%\n",
      "Epoch 45/70, Loss: 0.7658, Accuracy: 73.30%\n",
      "Epoch 46/70, Loss: 0.7476, Accuracy: 74.67%\n",
      "Epoch 47/70, Loss: 0.7492, Accuracy: 73.82%\n",
      "Epoch 48/70, Loss: 0.7478, Accuracy: 74.08%\n",
      "Epoch 49/70, Loss: 0.7426, Accuracy: 73.88%\n",
      "Epoch 50/70, Loss: 0.7389, Accuracy: 73.33%\n",
      "Epoch 51/70, Loss: 0.7388, Accuracy: 74.34%\n",
      "Epoch 52/70, Loss: 0.7373, Accuracy: 75.01%\n",
      "Epoch 53/70, Loss: 0.7313, Accuracy: 75.10%\n",
      "Epoch 54/70, Loss: 0.7326, Accuracy: 74.05%\n",
      "Epoch 55/70, Loss: 0.7227, Accuracy: 75.10%\n",
      "Epoch 56/70, Loss: 0.7119, Accuracy: 75.98%\n",
      "Epoch 57/70, Loss: 0.7173, Accuracy: 75.54%\n",
      "Epoch 58/70, Loss: 0.7239, Accuracy: 75.19%\n",
      "Epoch 59/70, Loss: 0.7032, Accuracy: 76.56%\n",
      "Epoch 60/70, Loss: 0.7053, Accuracy: 75.42%\n",
      "Epoch 61/70, Loss: 0.7048, Accuracy: 75.74%\n",
      "Epoch 62/70, Loss: 0.6986, Accuracy: 76.59%\n",
      "Epoch 63/70, Loss: 0.7081, Accuracy: 75.51%\n",
      "Epoch 64/70, Loss: 0.6989, Accuracy: 76.56%\n",
      "Epoch 65/70, Loss: 0.6942, Accuracy: 76.44%\n",
      "Epoch 66/70, Loss: 0.6908, Accuracy: 76.67%\n",
      "Epoch 67/70, Loss: 0.6865, Accuracy: 76.62%\n",
      "Epoch 68/70, Loss: 0.6919, Accuracy: 76.47%\n",
      "Epoch 69/70, Loss: 0.6883, Accuracy: 76.88%\n",
      "Epoch 70/70, Loss: 0.6858, Accuracy: 76.47%\n",
      "\n",
      "Model saved as resnet_trained.pth\n"
     ]
    }
   ],
   "source": [
    "import torch\n",
    "import torch.nn as nn\n",
    "import torch.optim as optim\n",
    "import torchvision.models as models\n",
    "from tqdm import tqdm\n",
    "from torch.utils.data import DataLoader\n",
    "\n",
    "device = torch.device(\"cuda\" if torch.cuda.is_available() else \"cpu\")\n",
    "print(f\"Using device: {device}\")\n",
    "model = models.resnet50(weights=models.ResNet50_Weights.IMAGENET1K_V1)\n",
    "\n",
    "num_ftrs = model.fc.in_features\n",
    "num_classes = 6\n",
    "model.fc = nn.Linear(num_ftrs, num_classes)\n",
    "\n",
    "for param in model.parameters():\n",
    "    param.requires_grad = False\n",
    "for param in model.fc.parameters():\n",
    "    param.requires_grad = True\n",
    "\n",
    "model = model.to(device)\n",
    "criterion = nn.CrossEntropyLoss()\n",
    "optimizer = optim.Adam(model.fc.parameters(), lr=0.0001)\n",
    "scaler = torch.cuda.amp.GradScaler()  \n",
    "\n",
    "train_loader = DataLoader(train_dataset, batch_size=32, shuffle=True, num_workers=4, pin_memory=True)\n",
    "val_loader = DataLoader(val_dataset, batch_size=32, shuffle=False, num_workers=4, pin_memory=True)\n",
    "test_loader = DataLoader(test_dataset, batch_size=32, shuffle=False, num_workers=4, pin_memory=True)\n",
    "\n",
    "num_epochs = 70\n",
    "train_acc_history = []\n",
    "val_acc_history = []\n",
    "test_acc_history = []\n",
    "\n",
    "for epoch in range(num_epochs):\n",
    "    model.train()\n",
    "    correct = 0\n",
    "    total = 0\n",
    "    running_loss = 0.0\n",
    "\n",
    "    for images, labels in train_loader:\n",
    "        images, labels = images.to(device), labels.to(device)\n",
    "\n",
    "        optimizer.zero_grad()\n",
    "\n",
    "        with torch.cuda.amp.autocast():  \n",
    "            outputs = model(images)\n",
    "            loss = criterion(outputs, labels)\n",
    "\n",
    "        scaler.scale(loss).backward()\n",
    "        scaler.step(optimizer)\n",
    "        scaler.update()\n",
    "\n",
    "        running_loss += loss.item()\n",
    "        _, predicted = torch.max(outputs, 1)\n",
    "        correct += (predicted == labels).sum().item()\n",
    "        total += labels.size(0)\n",
    "\n",
    "    print(f\"Epoch {epoch+1}/{num_epochs}, Loss: {running_loss / len(train_loader):.4f}, Accuracy: {100 * correct / total:.2f}%\")\n",
    "\n",
    "torch.save(model.state_dict(), \"resnet_trained.pth\")\n",
    "print(\"\\nModel saved as resnet_trained.pth\")\n"
   ]
  },
  {
   "cell_type": "code",
   "execution_count": 7,
   "id": "6b14fa97",
   "metadata": {
    "execution": {
     "iopub.execute_input": "2025-02-10T11:23:34.160959Z",
     "iopub.status.busy": "2025-02-10T11:23:34.160644Z",
     "iopub.status.idle": "2025-02-10T11:23:45.557712Z",
     "shell.execute_reply": "2025-02-10T11:23:45.556456Z"
    },
    "papermill": {
     "duration": 11.405085,
     "end_time": "2025-02-10T11:23:45.559177",
     "exception": false,
     "start_time": "2025-02-10T11:23:34.154092",
     "status": "completed"
    },
    "tags": []
   },
   "outputs": [
    {
     "name": "stdout",
     "output_type": "stream",
     "text": [
      "\n",
      " Final Per-Class Training Accuracy:\n",
      "\n",
      "BLB: Training = 84.09%\n",
      "Blast: Training = 60.39%\n",
      "healthy: Training = 74.85%\n",
      "hispa: Training = 81.95%\n",
      "leaf folder: Training = 85.64%\n",
      "leaf spot: Training = 77.31%\n",
      "\n",
      " Final Per-Class Validation Accuracy:\n",
      "\n",
      "BLB: Validation = 80.84%\n",
      "Blast: Validation = 40.91%\n",
      "healthy: Validation = 74.72%\n",
      "hispa: Validation = 78.80%\n",
      "leaf folder: Validation = 79.63%\n",
      "leaf spot: Validation = 64.83%\n",
      "\n",
      " Final Per-Class Test Accuracy:\n",
      "\n",
      "BLB: Test = 78.77%\n",
      "Blast: Test = 43.18%\n",
      "healthy: Test = 77.78%\n",
      "hispa: Test = 78.54%\n",
      "leaf folder: Test = 78.87%\n",
      "leaf spot: Test = 69.23%\n"
     ]
    }
   ],
   "source": [
    "import numpy as np\n",
    "import torch\n",
    "\n",
    "class_names = augmented_dataset.classes  \n",
    "num_classes = len(class_names)  \n",
    "\n",
    "def calculate_per_class_accuracy(model, data_loaders, device, datasets=[\"Training\", \"Validation\", \"Test\"]):\n",
    "    for dataset_type, data_loader in zip(datasets, data_loaders):\n",
    "        model.eval()\n",
    "        class_correct = np.zeros(num_classes) \n",
    "        class_total = np.zeros(num_classes)\n",
    "\n",
    "        with torch.no_grad():\n",
    "            for images, labels in data_loader:\n",
    "                images, labels = images.to(device), labels.to(device)\n",
    "                outputs = model(images)\n",
    "                _, predicted = torch.max(outputs, 1)\n",
    "\n",
    "                for i in range(len(labels)):\n",
    "                    label = labels[i].item()\n",
    "                    class_correct[label] += (predicted[i] == label).item()\n",
    "                    class_total[label] += 1\n",
    "\n",
    "        print(f\"\\n Final Per-Class {dataset_type} Accuracy:\\n\")\n",
    "        for i in range(num_classes):  \n",
    "            if class_total[i] > 0:\n",
    "                accuracy = 100 * class_correct[i] / class_total[i]\n",
    "                print(f\"{class_names[i]}: {dataset_type} = {accuracy:.2f}%\")\n",
    "            else:\n",
    "                print(f\"{class_names[i]}: {dataset_type} = No samples available \")\n",
    "\n",
    "data_loaders = [train_loader, val_loader, test_loader]\n",
    "datasets = [\"Training\", \"Validation\", \"Test\"]\n",
    "calculate_per_class_accuracy(model, data_loaders, device, datasets=datasets)"
   ]
  },
  {
   "cell_type": "code",
   "execution_count": 8,
   "id": "be338e36",
   "metadata": {
    "execution": {
     "iopub.execute_input": "2025-02-10T11:23:45.573000Z",
     "iopub.status.busy": "2025-02-10T11:23:45.572731Z",
     "iopub.status.idle": "2025-02-10T11:23:51.531665Z",
     "shell.execute_reply": "2025-02-10T11:23:51.530780Z"
    },
    "papermill": {
     "duration": 5.967804,
     "end_time": "2025-02-10T11:23:51.533621",
     "exception": false,
     "start_time": "2025-02-10T11:23:45.565817",
     "status": "completed"
    },
    "tags": []
   },
   "outputs": [
    {
     "name": "stdout",
     "output_type": "stream",
     "text": [
      "Test Accuracy: 73.30%\n"
     ]
    },
    {
     "data": {
      "image/png": "[encoded data removed]",
      "text/plain": [
       "<Figure size 1000x500 with 1 Axes>"
      ]
     },
     "metadata": {},
     "output_type": "display_data"
    }
   ],
   "source": [
    "import numpy as np\n",
    "import torch\n",
    "from sklearn.metrics import precision_recall_curve, average_precision_score\n",
    "import matplotlib.pyplot as plt\n",
    "y_true = []\n",
    "y_scores = []\n",
    "model.eval()\n",
    "\n",
    "correct = 0\n",
    "total = 0\n",
    "with torch.no_grad():\n",
    "    for images, labels in test_loader:\n",
    "        images, labels = images.to(device), labels.to(device)\n",
    "        outputs = model(images)\n",
    "        _, predicted = torch.max(outputs, 1)\n",
    "        correct += (predicted == labels).sum().item()\n",
    "        total += labels.size(0)\n",
    "\n",
    "test_acc = 100 * correct / total\n",
    "print(f\"Test Accuracy: {test_acc:.2f}%\")\n",
    "with torch.no_grad():\n",
    "    for images, labels in test_loader:\n",
    "        images, labels = images.to(device), labels.to(device)\n",
    "        outputs = model(images)\n",
    "        probs = torch.nn.functional.softmax(outputs, dim=1)\n",
    "        \n",
    "        y_true.extend(labels.cpu().numpy())\n",
    "        y_scores.extend(probs.cpu().numpy())\n",
    "\n",
    "y_true = np.array(y_true)\n",
    "y_scores = np.array(y_scores)\n",
    "\n",
    "plt.figure(figsize=(10, 5))\n",
    "for i in range(len(class_names)):\n",
    "    precision, recall, _ = precision_recall_curve(y_true == i, y_scores[:, i])\n",
    "    avg_precision = average_precision_score(y_true == i, y_scores[:, i])\n",
    "    plt.plot(recall, precision, label=f\"{class_names[i]} (AP={avg_precision:.2f})\")\n",
    "\n",
    "plt.xlabel(\"Recall\")\n",
    "plt.ylabel(\"Precision\")\n",
    "plt.title(\"Precision-Recall Curve for Plant Disease Classification\")\n",
    "plt.legend()\n",
    "plt.show()"
   ]
  },
  {
   "cell_type": "code",
   "execution_count": 9,
   "id": "6a3bd2fc",
   "metadata": {
    "execution": {
     "iopub.execute_input": "2025-02-10T11:23:51.550824Z",
     "iopub.status.busy": "2025-02-10T11:23:51.550421Z",
     "iopub.status.idle": "2025-02-10T11:23:51.554838Z",
     "shell.execute_reply": "2025-02-10T11:23:51.554151Z"
    },
    "papermill": {
     "duration": 0.013783,
     "end_time": "2025-02-10T11:23:51.556101",
     "exception": false,
     "start_time": "2025-02-10T11:23:51.542318",
     "status": "completed"
    },
    "tags": []
   },
   "outputs": [
    {
     "data": {
      "text/plain": [
       "' \\n\\nUNet, Resnet, SegNet, GoogleNet, VGG, AlexNet, IncepTon V3, R-CNN, YOLOv11,\\nViT, EfficientNetv2\\n'"
      ]
     },
     "execution_count": 9,
     "metadata": {},
     "output_type": "execute_result"
    }
   ],
   "source": [
    "\"\"\" \n",
    "\n",
    "UNet, Resnet, SegNet, GoogleNet, VGG, AlexNet, IncepTon V3, R-CNN, YOLOv11,\n",
    "ViT, EfficientNetv2\n",
    "\"\"\""
   ]
  },
  {
   "cell_type": "code",
   "execution_count": 10,
   "id": "fb6e0a8a",
   "metadata": {
    "execution": {
     "iopub.execute_input": "2025-02-10T11:23:51.572123Z",
     "iopub.status.busy": "2025-02-10T11:23:51.571917Z",
     "iopub.status.idle": "2025-02-10T11:23:51.574384Z",
     "shell.execute_reply": "2025-02-10T11:23:51.573869Z"
    },
    "papermill": {
     "duration": 0.01177,
     "end_time": "2025-02-10T11:23:51.575445",
     "exception": false,
     "start_time": "2025-02-10T11:23:51.563675",
     "status": "completed"
    },
    "tags": []
   },
   "outputs": [],
   "source": [
    "# alexnet , resnet , googlenet , unet , vgg\n",
    "# segnet , inception , rcnn , vit  , efficient net"
   ]
  }
 ],
 "metadata": {
  "kaggle": {
   "accelerator": "gpu",
   "dataSources": [
    {
     "datasetId": 608236,
     "sourceId": 1091061,
     "sourceType": "datasetVersion"
    },
    {
     "datasetId": 6638340,
     "sourceId": 10710646,
     "sourceType": "datasetVersion"
    }
   ],
   "dockerImageVersionId": 30886,
   "isGpuEnabled": true,
   "isInternetEnabled": true,
   "language": "python",
   "sourceType": "notebook"
  },
  "kernelspec": {
   "display_name": "Python 3",
   "language": "python",
   "name": "python3"
  },
  "language_info": {
   "codemirror_mode": {
    "name": "ipython",
    "version": 3
   },
   "file_extension": ".py",
   "mimetype": "text/x-python",
   "name": "python",
   "nbconvert_exporter": "python",
   "pygments_lexer": "ipython3",
   "version": "3.10.12"
  },
  "papermill": {
   "default_parameters": {},
   "duration": 477.189587,
   "end_time": "2025-02-10T11:23:54.320894",
   "environment_variables": {},
   "exception": null,
   "input_path": "__notebook__.ipynb",
   "output_path": "__notebook__.ipynb",
   "parameters": {},
   "start_time": "2025-02-10T11:15:57.131307",
   "version": "2.6.0"
  }
 },
 "nbformat": 4,
 "nbformat_minor": 5
}
