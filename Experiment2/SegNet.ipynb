{
  "nbformat": 4,
  "nbformat_minor": 0,
  "metadata": {
    "colab": {
      "provenance": [],
      "gpuType": "T4"
    },
    "kernelspec": {
      "name": "python3",
      "display_name": "Python 3"
    },
    "language_info": {
      "name": "python"
    },
    "accelerator": "GPU"
  },
  "cells": [
    {
      "cell_type": "code",
      "execution_count": 1,
      "metadata": {
        "id": "y9z6R3DVQmYI"
      },
      "outputs": [],
      "source": [
        "import os\n",
        "import shutil\n",
        "import logging\n",
        "import numpy as np\n",
        "from sklearn.model_selection import train_test_split\n",
        "import tensorflow as tf\n",
        "from tensorflow.keras import layers, models, applications\n",
        "from tensorflow.keras.preprocessing.image import ImageDataGenerator\n",
        "from tensorflow.keras.callbacks import EarlyStopping, ReduceLROnPlateau, ModelCheckpoint\n",
        "from google.colab import drive"
      ]
    },
    {
      "cell_type": "code",
      "source": [
        "# Mount Google Drive\n",
        "drive.mount('/content/drive')\n",
        "\n",
        "# Set up logging\n",
        "logging.basicConfig(level=logging.INFO)\n",
        "logger = logging.getLogger(__name__)\n",
        "\n",
        "# Define directories\n",
        "source_dir = \"/content/drive/MyDrive/Colab Notebooks/thermal_images/thermal_dataset/thermal images UL\"\n",
        "output_dir = \"/content/drive/MyDrive/Colab Notebooks/thermal_images/thermal_dataset/processed_data_Unet\"\n",
        "\n",
        "# Define classes\n",
        "classes = ['Blast', 'BLB', 'healthy', 'hispa', 'leaf folder', 'leaf spot']"
      ],
      "metadata": {
        "colab": {
          "base_uri": "https://localhost:8080/"
        },
        "id": "vBGe1D0xQvxF",
        "outputId": "7fd8afb5-766c-40ab-90a7-148170bd2251"
      },
      "execution_count": 2,
      "outputs": [
        {
          "output_type": "stream",
          "name": "stdout",
          "text": [
            "Mounted at /content/drive\n"
          ]
        }
      ]
    },
    {
      "cell_type": "code",
      "source": [
        "def prepare_data(source_dir, output_dir, classes, test_size=0.2, val_size=0.2):\n",
        "    \"\"\"Prepare and split the dataset with error handling and logging.\"\"\"\n",
        "    splits = ['train', 'validation', 'test']\n",
        "\n",
        "    # Create directories for splits\n",
        "    for split in splits:\n",
        "        for cls in classes:\n",
        "            os.makedirs(os.path.join(output_dir, split, cls), exist_ok=True)\n",
        "\n",
        "    # Track dataset statistics\n",
        "    class_counts = {}\n",
        "\n",
        "    for cls in classes:\n",
        "        class_dir = os.path.join(source_dir, cls)\n",
        "        if not os.path.exists(class_dir):\n",
        "            logger.error(f\"Class directory not found: {class_dir}\")\n",
        "            continue\n",
        "\n",
        "        images = [img for img in os.listdir(class_dir)\n",
        "                 if img.lower().endswith(('jpg', 'jpeg', 'png'))]\n",
        "\n",
        "        if not images:\n",
        "            logger.warning(f\"No images found in class: {cls}\")\n",
        "            continue\n",
        "\n",
        "        class_counts[cls] = len(images)\n",
        "        image_paths = [os.path.join(class_dir, img) for img in images]\n",
        "\n",
        "        # Split data\n",
        "        train_val_images, test_images = train_test_split(\n",
        "            image_paths, test_size=test_size, random_state=42, shuffle=True)\n",
        "        train_images, val_images = train_test_split(\n",
        "            train_val_images, test_size=val_size, random_state=42, shuffle=True)\n",
        "\n",
        "        # Copy images with error handling\n",
        "        for img_list, split in [(train_images, 'train'),\n",
        "                              (val_images, 'validation'),\n",
        "                              (test_images, 'test')]:\n",
        "            for img_path in img_list:\n",
        "                try:\n",
        "                    shutil.copy(img_path, os.path.join(output_dir, split, cls))\n",
        "                except Exception as e:\n",
        "                    logger.error(f\"Error copying {img_path}: {str(e)}\")\n",
        "\n",
        "    logger.info(\"Class distribution:\")\n",
        "    for cls, count in class_counts.items():\n",
        "        logger.info(f\"{cls}: {count} images\")\n",
        "\n",
        "    return class_counts\n"
      ],
      "metadata": {
        "id": "wVMtiYjVRGfs"
      },
      "execution_count": 3,
      "outputs": []
    },
    {
      "cell_type": "code",
      "source": [
        "def create_data_generators(output_dir, img_size=(224, 224), batch_size=32):\n",
        "    \"\"\"Create data generators with augmentation.\"\"\"\n",
        "    datagen_train = ImageDataGenerator(\n",
        "        rescale=1./255,\n",
        "        rotation_range=20,\n",
        "        width_shift_range=0.2,\n",
        "        height_shift_range=0.2,\n",
        "        zoom_range=0.2,\n",
        "        horizontal_flip=True,\n",
        "        fill_mode='nearest'\n",
        "    )\n",
        "\n",
        "    datagen_val_test = ImageDataGenerator(rescale=1./255)\n",
        "\n",
        "    train_generator = datagen_train.flow_from_directory(\n",
        "        os.path.join(output_dir, 'train'),\n",
        "        target_size=img_size,\n",
        "        batch_size=batch_size,\n",
        "        class_mode='categorical',\n",
        "        shuffle=True\n",
        "    )\n",
        "\n",
        "    val_generator = datagen_val_test.flow_from_directory(\n",
        "        os.path.join(output_dir, 'validation'),\n",
        "        target_size=img_size,\n",
        "        batch_size=batch_size,\n",
        "        class_mode='categorical',\n",
        "        shuffle=False\n",
        "    )\n",
        "\n",
        "    test_generator = datagen_val_test.flow_from_directory(\n",
        "        os.path.join(output_dir, 'test'),\n",
        "        target_size=img_size,\n",
        "        batch_size=batch_size,\n",
        "        class_mode='categorical',\n",
        "        shuffle=False\n",
        "    )\n",
        "\n",
        "    return train_generator, val_generator, test_generator"
      ],
      "metadata": {
        "id": "clPr3KKqRLH2"
      },
      "execution_count": 4,
      "outputs": []
    },
    {
      "cell_type": "code",
      "source": [
        "def build_efficient_model(input_shape=(224, 224, 3), num_classes=6):\n",
        "    \"\"\"Build an EfficientNetB0-based model with transfer learning.\"\"\"\n",
        "    base_model = applications.EfficientNetB0(\n",
        "        weights='imagenet',\n",
        "        include_top=False,\n",
        "        input_shape=input_shape\n",
        "    )\n",
        "\n",
        "    # Freeze the base model\n",
        "    base_model.trainable = False\n",
        "\n",
        "    model = models.Sequential([\n",
        "        base_model,\n",
        "        layers.GlobalAveragePooling2D(),\n",
        "        layers.BatchNormalization(),\n",
        "        layers.Dropout(0.5),\n",
        "        layers.Dense(256, activation='relu'),\n",
        "        layers.BatchNormalization(),\n",
        "        layers.Dropout(0.5),\n",
        "        layers.Dense(num_classes, activation='softmax')\n",
        "    ])\n",
        "\n",
        "    optimizer = tf.keras.optimizers.Adam(learning_rate=1e-3)\n",
        "\n",
        "    model.compile(\n",
        "        optimizer=optimizer,\n",
        "        loss='categorical_crossentropy',\n",
        "        metrics=['accuracy', tf.keras.metrics.TopKCategoricalAccuracy(k=2, name='top2_acc')]\n",
        "    )\n",
        "\n",
        "    return model"
      ],
      "metadata": {
        "id": "JUeT4uQhRM0O"
      },
      "execution_count": 5,
      "outputs": []
    },
    {
      "cell_type": "code",
      "source": [
        "def train_model(model, train_gen, val_gen, epochs=50, class_weights=None):\n",
        "    \"\"\"Train the model with callbacks and optional class weights.\"\"\"\n",
        "    callbacks = [\n",
        "        EarlyStopping(\n",
        "            monitor='val_accuracy',\n",
        "            patience=10,\n",
        "            restore_best_weights=True,\n",
        "            verbose=1\n",
        "        ),\n",
        "        ReduceLROnPlateau(\n",
        "            monitor='val_loss',\n",
        "            factor=0.5,\n",
        "            patience=5,\n",
        "            min_lr=1e-6,\n",
        "            verbose=1\n",
        "        ),\n",
        "        ModelCheckpoint(\n",
        "            'best_model.h5',\n",
        "            monitor='val_accuracy',\n",
        "            save_best_only=True,\n",
        "            verbose=1\n",
        "        )\n",
        "    ]\n",
        "\n",
        "    history = model.fit(\n",
        "        train_gen,\n",
        "        validation_data=val_gen,\n",
        "        epochs=epochs,\n",
        "        callbacks=callbacks,\n",
        "        class_weight=class_weights,\n",
        "        verbose=1\n",
        "    )\n",
        "\n",
        "    return history"
      ],
      "metadata": {
        "id": "hGXKGZRsRSNZ"
      },
      "execution_count": 6,
      "outputs": []
    },
    {
      "cell_type": "code",
      "source": [
        "def calculate_class_weights(class_counts):\n",
        "    \"\"\"Calculate class weights for imbalanced dataset.\"\"\"\n",
        "    total = sum(class_counts.values())\n",
        "    max_samples = max(class_counts.values())\n",
        "    class_weights = {i: max_samples / count for i, count in enumerate(class_counts.values())}\n",
        "    return class_weights\n",
        "\n",
        "def evaluate_model(model, test_generator):\n",
        "    \"\"\"Evaluate the model and print detailed metrics.\"\"\"\n",
        "    results = model.evaluate(test_generator, verbose=1)\n",
        "    print(\"\\nTest Results:\")\n",
        "    for metric_name, value in zip(model.metrics_names, results):\n",
        "        print(f\"{metric_name}: {value:.4f}\")\n",
        "\n",
        "def fine_tune_model(model, train_gen, val_gen, epochs=30):\n",
        "    \"\"\"Fine-tune the model by unfreezing some layers.\"\"\"\n",
        "    # Unfreeze the top layers of the base model\n",
        "    base_model = model.layers[0]\n",
        "    base_model.trainable = True\n",
        "\n",
        "    for layer in base_model.layers[:-20]:\n",
        "        layer.trainable = False\n",
        "\n",
        "    # Recompile with a lower learning rate\n",
        "    model.compile(\n",
        "        optimizer=tf.keras.optimizers.Adam(learning_rate=1e-5),\n",
        "        loss='categorical_crossentropy',\n",
        "        metrics=['accuracy', tf.keras.metrics.TopKCategoricalAccuracy(k=2, name='top2_acc')]\n",
        "    )\n",
        "\n",
        "    # Train with the same callbacks\n",
        "    history = train_model(model, train_gen, val_gen, epochs=epochs)\n",
        "    return history"
      ],
      "metadata": {
        "id": "47Hhjp0aRYF7"
      },
      "execution_count": 7,
      "outputs": []
    },
    {
      "cell_type": "code",
      "source": [
        "# Main execution\n",
        "if __name__ == \"__main__\":\n",
        "    # Prepare data and get class distribution\n",
        "    class_counts = prepare_data(source_dir, output_dir, classes)\n",
        "\n",
        "    # Calculate class weights for imbalanced dataset\n",
        "    class_weights = calculate_class_weights(class_counts)\n",
        "\n",
        "    # Create data generators\n",
        "    train_gen, val_gen, test_gen = create_data_generators(output_dir)\n",
        "\n",
        "    # Build and train initial model\n",
        "    model = build_efficient_model()\n",
        "    logger.info(\"Training initial model...\")\n",
        "    history = train_model(model, train_gen, val_gen, epochs=30, class_weights=class_weights)\n",
        "\n",
        "    # Evaluate initial model\n",
        "    logger.info(\"Evaluating initial model...\")\n",
        "    evaluate_model(model, test_gen)\n",
        "\n",
        "    # Fine-tune the model\n",
        "    logger.info(\"Fine-tuning the model...\")\n",
        "    fine_tune_history = fine_tune_model(model, train_gen, val_gen)\n",
        "\n",
        "    # Final evaluation\n",
        "    logger.info(\"Final model evaluation...\")\n",
        "    evaluate_model(model, test_gen)\n",
        "\n",
        "    # Save the final model\n",
        "    model.save('final_thermal_classification_model.h5')\n",
        "    logger.info(\"Model saved successfully!\")"
      ],
      "metadata": {
        "colab": {
          "base_uri": "https://localhost:8080/"
        },
        "id": "IMAhf_OGRdWs",
        "outputId": "79c20440-80a5-4d32-b19b-6c07af48e17d"
      },
      "execution_count": 8,
      "outputs": [
        {
          "output_type": "stream",
          "name": "stdout",
          "text": [
            "Found 619 images belonging to 6 classes.\n",
            "Found 244 images belonging to 6 classes.\n",
            "Found 269 images belonging to 6 classes.\n",
            "Downloading data from https://storage.googleapis.com/keras-applications/efficientnetb0_notop.h5\n",
            "\u001b[1m16705208/16705208\u001b[0m \u001b[32m━━━━━━━━━━━━━━━━━━━━\u001b[0m\u001b[37m\u001b[0m \u001b[1m0s\u001b[0m 0us/step\n"
          ]
        },
        {
          "output_type": "stream",
          "name": "stderr",
          "text": [
            "/usr/local/lib/python3.11/dist-packages/keras/src/trainers/data_adapters/py_dataset_adapter.py:121: UserWarning: Your `PyDataset` class should call `super().__init__(**kwargs)` in its constructor. `**kwargs` can include `workers`, `use_multiprocessing`, `max_queue_size`. Do not pass these arguments to `fit()`, as they will be ignored.\n",
            "  self._warn_if_super_not_called()\n"
          ]
        },
        {
          "output_type": "stream",
          "name": "stdout",
          "text": [
            "Epoch 1/30\n",
            "\u001b[1m20/20\u001b[0m \u001b[32m━━━━━━━━━━━━━━━━━━━━\u001b[0m\u001b[37m\u001b[0m \u001b[1m0s\u001b[0m 3s/step - accuracy: 0.1776 - loss: 7.7260 - top2_acc: 0.3342\n",
            "Epoch 1: val_accuracy improved from -inf to 0.10246, saving model to best_model.h5\n"
          ]
        },
        {
          "output_type": "stream",
          "name": "stderr",
          "text": [
            "WARNING:absl:You are saving your model as an HDF5 file via `model.save()` or `keras.saving.save_model(model)`. This file format is considered legacy. We recommend using instead the native Keras format, e.g. `model.save('my_model.keras')` or `keras.saving.save_model(model, 'my_model.keras')`. \n"
          ]
        },
        {
          "output_type": "stream",
          "name": "stdout",
          "text": [
            "\b\b\b\b\b\b\b\b\b\b\b\b\b\b\b\b\b\b\b\b\b\b\b\b\b\b\b\b\b\b\b\b\b\b\b\b\b\b\b\b\b\b\b\b\b\b\b\b\b\b\b\b\b\b\b\b\b\b\b\b\b\b\b\b\b\b\b\b\b\b\b\b\b\b\b\b\b\b\b\b\b\b\b\b\b\b\b\b\b\b\r\u001b[1m20/20\u001b[0m \u001b[32m━━━━━━━━━━━━━━━━━━━━\u001b[0m\u001b[37m\u001b[0m \u001b[1m125s\u001b[0m 5s/step - accuracy: 0.1774 - loss: 7.7111 - top2_acc: 0.3337 - val_accuracy: 0.1025 - val_loss: 1.8655 - val_top2_acc: 0.1598 - learning_rate: 0.0010\n",
            "Epoch 2/30\n",
            "\u001b[1m20/20\u001b[0m \u001b[32m━━━━━━━━━━━━━━━━━━━━\u001b[0m\u001b[37m\u001b[0m \u001b[1m0s\u001b[0m 3s/step - accuracy: 0.1861 - loss: 6.7372 - top2_acc: 0.3732\n",
            "Epoch 2: val_accuracy improved from 0.10246 to 0.34836, saving model to best_model.h5\n"
          ]
        },
        {
          "output_type": "stream",
          "name": "stderr",
          "text": [
            "WARNING:absl:You are saving your model as an HDF5 file via `model.save()` or `keras.saving.save_model(model)`. This file format is considered legacy. We recommend using instead the native Keras format, e.g. `model.save('my_model.keras')` or `keras.saving.save_model(model, 'my_model.keras')`. \n"
          ]
        },
        {
          "output_type": "stream",
          "name": "stdout",
          "text": [
            "\b\b\b\b\b\b\b\b\b\b\b\b\b\b\b\b\b\b\b\b\b\b\b\b\b\b\b\b\b\b\b\b\b\b\b\b\b\b\b\b\b\b\b\b\b\b\b\b\b\b\b\b\b\b\b\b\b\b\b\b\b\b\b\b\b\b\b\b\b\b\b\b\b\b\b\b\b\b\b\b\b\b\b\b\b\b\b\b\b\b\r\u001b[1m20/20\u001b[0m \u001b[32m━━━━━━━━━━━━━━━━━━━━\u001b[0m\u001b[37m\u001b[0m \u001b[1m75s\u001b[0m 4s/step - accuracy: 0.1861 - loss: 6.7351 - top2_acc: 0.3723 - val_accuracy: 0.3484 - val_loss: 1.7611 - val_top2_acc: 0.4508 - learning_rate: 0.0010\n",
            "Epoch 3/30\n",
            "\u001b[1m20/20\u001b[0m \u001b[32m━━━━━━━━━━━━━━━━━━━━\u001b[0m\u001b[37m\u001b[0m \u001b[1m0s\u001b[0m 3s/step - accuracy: 0.1972 - loss: 7.0902 - top2_acc: 0.3349\n",
            "Epoch 3: val_accuracy did not improve from 0.34836\n",
            "\u001b[1m20/20\u001b[0m \u001b[32m━━━━━━━━━━━━━━━━━━━━\u001b[0m\u001b[37m\u001b[0m \u001b[1m76s\u001b[0m 4s/step - accuracy: 0.1975 - loss: 7.0674 - top2_acc: 0.3364 - val_accuracy: 0.3484 - val_loss: 1.7146 - val_top2_acc: 0.4057 - learning_rate: 0.0010\n",
            "Epoch 4/30\n",
            "\u001b[1m20/20\u001b[0m \u001b[32m━━━━━━━━━━━━━━━━━━━━\u001b[0m\u001b[37m\u001b[0m \u001b[1m0s\u001b[0m 3s/step - accuracy: 0.2833 - loss: 5.6039 - top2_acc: 0.4340\n",
            "Epoch 4: val_accuracy did not improve from 0.34836\n",
            "\u001b[1m20/20\u001b[0m \u001b[32m━━━━━━━━━━━━━━━━━━━━\u001b[0m\u001b[37m\u001b[0m \u001b[1m76s\u001b[0m 4s/step - accuracy: 0.2820 - loss: 5.6149 - top2_acc: 0.4331 - val_accuracy: 0.3484 - val_loss: 1.7205 - val_top2_acc: 0.4057 - learning_rate: 0.0010\n",
            "Epoch 5/30\n",
            "\u001b[1m20/20\u001b[0m \u001b[32m━━━━━━━━━━━━━━━━━━━━\u001b[0m\u001b[37m\u001b[0m \u001b[1m0s\u001b[0m 3s/step - accuracy: 0.2244 - loss: 5.7534 - top2_acc: 0.4248\n",
            "Epoch 5: val_accuracy did not improve from 0.34836\n",
            "\u001b[1m20/20\u001b[0m \u001b[32m━━━━━━━━━━━━━━━━━━━━\u001b[0m\u001b[37m\u001b[0m \u001b[1m80s\u001b[0m 4s/step - accuracy: 0.2244 - loss: 5.7645 - top2_acc: 0.4234 - val_accuracy: 0.3484 - val_loss: 1.7605 - val_top2_acc: 0.4057 - learning_rate: 0.0010\n",
            "Epoch 6/30\n",
            "\u001b[1m20/20\u001b[0m \u001b[32m━━━━━━━━━━━━━━━━━━━━\u001b[0m\u001b[37m\u001b[0m \u001b[1m0s\u001b[0m 3s/step - accuracy: 0.2262 - loss: 6.1757 - top2_acc: 0.4144\n",
            "Epoch 6: val_accuracy did not improve from 0.34836\n",
            "\u001b[1m20/20\u001b[0m \u001b[32m━━━━━━━━━━━━━━━━━━━━\u001b[0m\u001b[37m\u001b[0m \u001b[1m76s\u001b[0m 4s/step - accuracy: 0.2270 - loss: 6.1643 - top2_acc: 0.4140 - val_accuracy: 0.3484 - val_loss: 1.7192 - val_top2_acc: 0.4057 - learning_rate: 0.0010\n",
            "Epoch 7/30\n",
            "\u001b[1m20/20\u001b[0m \u001b[32m━━━━━━━━━━━━━━━━━━━━\u001b[0m\u001b[37m\u001b[0m \u001b[1m0s\u001b[0m 3s/step - accuracy: 0.2604 - loss: 5.6492 - top2_acc: 0.4140\n",
            "Epoch 7: val_accuracy did not improve from 0.34836\n",
            "\u001b[1m20/20\u001b[0m \u001b[32m━━━━━━━━━━━━━━━━━━━━\u001b[0m\u001b[37m\u001b[0m \u001b[1m86s\u001b[0m 4s/step - accuracy: 0.2591 - loss: 5.6575 - top2_acc: 0.4134 - val_accuracy: 0.3484 - val_loss: 1.6931 - val_top2_acc: 0.5820 - learning_rate: 0.0010\n",
            "Epoch 8/30\n",
            "\u001b[1m20/20\u001b[0m \u001b[32m━━━━━━━━━━━━━━━━━━━━\u001b[0m\u001b[37m\u001b[0m \u001b[1m0s\u001b[0m 3s/step - accuracy: 0.2500 - loss: 5.5331 - top2_acc: 0.4479\n",
            "Epoch 8: val_accuracy did not improve from 0.34836\n",
            "\u001b[1m20/20\u001b[0m \u001b[32m━━━━━━━━━━━━━━━━━━━━\u001b[0m\u001b[37m\u001b[0m \u001b[1m73s\u001b[0m 4s/step - accuracy: 0.2510 - loss: 5.5322 - top2_acc: 0.4487 - val_accuracy: 0.3484 - val_loss: 1.7193 - val_top2_acc: 0.4959 - learning_rate: 0.0010\n",
            "Epoch 9/30\n",
            "\u001b[1m20/20\u001b[0m \u001b[32m━━━━━━━━━━━━━━━━━━━━\u001b[0m\u001b[37m\u001b[0m \u001b[1m0s\u001b[0m 3s/step - accuracy: 0.2632 - loss: 5.3123 - top2_acc: 0.4583\n",
            "Epoch 9: val_accuracy did not improve from 0.34836\n",
            "\u001b[1m20/20\u001b[0m \u001b[32m━━━━━━━━━━━━━━━━━━━━\u001b[0m\u001b[37m\u001b[0m \u001b[1m76s\u001b[0m 4s/step - accuracy: 0.2624 - loss: 5.3187 - top2_acc: 0.4567 - val_accuracy: 0.3484 - val_loss: 1.6994 - val_top2_acc: 0.5820 - learning_rate: 0.0010\n",
            "Epoch 10/30\n",
            "\u001b[1m20/20\u001b[0m \u001b[32m━━━━━━━━━━━━━━━━━━━━\u001b[0m\u001b[37m\u001b[0m \u001b[1m0s\u001b[0m 3s/step - accuracy: 0.2435 - loss: 5.5639 - top2_acc: 0.4128\n",
            "Epoch 10: val_accuracy did not improve from 0.34836\n",
            "\u001b[1m20/20\u001b[0m \u001b[32m━━━━━━━━━━━━━━━━━━━━\u001b[0m\u001b[37m\u001b[0m \u001b[1m80s\u001b[0m 4s/step - accuracy: 0.2442 - loss: 5.5569 - top2_acc: 0.4140 - val_accuracy: 0.3484 - val_loss: 1.7301 - val_top2_acc: 0.4057 - learning_rate: 0.0010\n",
            "Epoch 11/30\n",
            "\u001b[1m20/20\u001b[0m \u001b[32m━━━━━━━━━━━━━━━━━━━━\u001b[0m\u001b[37m\u001b[0m \u001b[1m0s\u001b[0m 3s/step - accuracy: 0.2276 - loss: 5.5974 - top2_acc: 0.4108\n",
            "Epoch 11: val_accuracy did not improve from 0.34836\n",
            "\u001b[1m20/20\u001b[0m \u001b[32m━━━━━━━━━━━━━━━━━━━━\u001b[0m\u001b[37m\u001b[0m \u001b[1m74s\u001b[0m 4s/step - accuracy: 0.2288 - loss: 5.5974 - top2_acc: 0.4117 - val_accuracy: 0.3484 - val_loss: 1.6794 - val_top2_acc: 0.5820 - learning_rate: 0.0010\n",
            "Epoch 12/30\n",
            "\u001b[1m20/20\u001b[0m \u001b[32m━━━━━━━━━━━━━━━━━━━━\u001b[0m\u001b[37m\u001b[0m \u001b[1m0s\u001b[0m 3s/step - accuracy: 0.2593 - loss: 5.2680 - top2_acc: 0.4385\n",
            "Epoch 12: val_accuracy did not improve from 0.34836\n",
            "\u001b[1m20/20\u001b[0m \u001b[32m━━━━━━━━━━━━━━━━━━━━\u001b[0m\u001b[37m\u001b[0m \u001b[1m78s\u001b[0m 4s/step - accuracy: 0.2599 - loss: 5.2803 - top2_acc: 0.4385 - val_accuracy: 0.3484 - val_loss: 1.6938 - val_top2_acc: 0.5820 - learning_rate: 0.0010\n",
            "Epoch 12: early stopping\n",
            "Restoring model weights from the end of the best epoch: 2.\n",
            "\u001b[1m9/9\u001b[0m \u001b[32m━━━━━━━━━━━━━━━━━━━━\u001b[0m\u001b[37m\u001b[0m \u001b[1m34s\u001b[0m 4s/step - accuracy: 0.6185 - loss: 1.6244 - top2_acc: 0.6441\n",
            "\n",
            "Test Results:\n",
            "loss: 1.7634\n",
            "compile_metrics: 0.3420\n",
            "Epoch 1/30\n",
            "\u001b[1m20/20\u001b[0m \u001b[32m━━━━━━━━━━━━━━━━━━━━\u001b[0m\u001b[37m\u001b[0m \u001b[1m0s\u001b[0m 3s/step - accuracy: 0.1533 - loss: 2.9454 - top2_acc: 0.3242\n",
            "Epoch 1: val_accuracy improved from -inf to 0.34836, saving model to best_model.h5\n"
          ]
        },
        {
          "output_type": "stream",
          "name": "stderr",
          "text": [
            "WARNING:absl:You are saving your model as an HDF5 file via `model.save()` or `keras.saving.save_model(model)`. This file format is considered legacy. We recommend using instead the native Keras format, e.g. `model.save('my_model.keras')` or `keras.saving.save_model(model, 'my_model.keras')`. \n"
          ]
        },
        {
          "output_type": "stream",
          "name": "stdout",
          "text": [
            "\b\b\b\b\b\b\b\b\b\b\b\b\b\b\b\b\b\b\b\b\b\b\b\b\b\b\b\b\b\b\b\b\b\b\b\b\b\b\b\b\b\b\b\b\b\b\b\b\b\b\b\b\b\b\b\b\b\b\b\b\b\b\b\b\b\b\b\b\b\b\b\b\b\b\b\b\b\b\b\b\b\b\b\b\b\b\b\b\b\b\r\u001b[1m20/20\u001b[0m \u001b[32m━━━━━━━━━━━━━━━━━━━━\u001b[0m\u001b[37m\u001b[0m \u001b[1m103s\u001b[0m 4s/step - accuracy: 0.1538 - loss: 2.9360 - top2_acc: 0.3261 - val_accuracy: 0.3484 - val_loss: 1.7656 - val_top2_acc: 0.4508 - learning_rate: 1.0000e-05\n",
            "Epoch 2/30\n",
            "\u001b[1m20/20\u001b[0m \u001b[32m━━━━━━━━━━━━━━━━━━━━\u001b[0m\u001b[37m\u001b[0m \u001b[1m0s\u001b[0m 3s/step - accuracy: 0.1949 - loss: 2.7470 - top2_acc: 0.3897\n",
            "Epoch 2: val_accuracy did not improve from 0.34836\n",
            "\u001b[1m20/20\u001b[0m \u001b[32m━━━━━━━━━━━━━━━━━━━━\u001b[0m\u001b[37m\u001b[0m \u001b[1m88s\u001b[0m 4s/step - accuracy: 0.1949 - loss: 2.7443 - top2_acc: 0.3890 - val_accuracy: 0.3484 - val_loss: 1.7744 - val_top2_acc: 0.4508 - learning_rate: 1.0000e-05\n",
            "Epoch 3/30\n",
            "\u001b[1m20/20\u001b[0m \u001b[32m━━━━━━━━━━━━━━━━━━━━\u001b[0m\u001b[37m\u001b[0m \u001b[1m0s\u001b[0m 3s/step - accuracy: 0.1918 - loss: 2.6930 - top2_acc: 0.3780\n",
            "Epoch 3: val_accuracy did not improve from 0.34836\n",
            "\u001b[1m20/20\u001b[0m \u001b[32m━━━━━━━━━━━━━━━━━━━━\u001b[0m\u001b[37m\u001b[0m \u001b[1m85s\u001b[0m 4s/step - accuracy: 0.1916 - loss: 2.6922 - top2_acc: 0.3776 - val_accuracy: 0.3484 - val_loss: 1.7860 - val_top2_acc: 0.4508 - learning_rate: 1.0000e-05\n",
            "Epoch 4/30\n",
            "\u001b[1m20/20\u001b[0m \u001b[32m━━━━━━━━━━━━━━━━━━━━\u001b[0m\u001b[37m\u001b[0m \u001b[1m0s\u001b[0m 3s/step - accuracy: 0.1901 - loss: 2.6420 - top2_acc: 0.3768\n",
            "Epoch 4: val_accuracy did not improve from 0.34836\n",
            "\u001b[1m20/20\u001b[0m \u001b[32m━━━━━━━━━━━━━━━━━━━━\u001b[0m\u001b[37m\u001b[0m \u001b[1m83s\u001b[0m 4s/step - accuracy: 0.1905 - loss: 2.6386 - top2_acc: 0.3771 - val_accuracy: 0.3484 - val_loss: 1.7978 - val_top2_acc: 0.4508 - learning_rate: 1.0000e-05\n",
            "Epoch 5/30\n",
            "\u001b[1m20/20\u001b[0m \u001b[32m━━━━━━━━━━━━━━━━━━━━\u001b[0m\u001b[37m\u001b[0m \u001b[1m0s\u001b[0m 3s/step - accuracy: 0.1867 - loss: 2.7112 - top2_acc: 0.3564\n",
            "Epoch 5: val_accuracy did not improve from 0.34836\n",
            "\u001b[1m20/20\u001b[0m \u001b[32m━━━━━━━━━━━━━━━━━━━━\u001b[0m\u001b[37m\u001b[0m \u001b[1m84s\u001b[0m 4s/step - accuracy: 0.1866 - loss: 2.7110 - top2_acc: 0.3559 - val_accuracy: 0.3074 - val_loss: 1.8139 - val_top2_acc: 0.4508 - learning_rate: 1.0000e-05\n",
            "Epoch 6/30\n",
            "\u001b[1m20/20\u001b[0m \u001b[32m━━━━━━━━━━━━━━━━━━━━\u001b[0m\u001b[37m\u001b[0m \u001b[1m0s\u001b[0m 3s/step - accuracy: 0.1583 - loss: 2.7102 - top2_acc: 0.3286\n",
            "Epoch 6: ReduceLROnPlateau reducing learning rate to 4.999999873689376e-06.\n",
            "\n",
            "Epoch 6: val_accuracy did not improve from 0.34836\n",
            "\u001b[1m20/20\u001b[0m \u001b[32m━━━━━━━━━━━━━━━━━━━━\u001b[0m\u001b[37m\u001b[0m \u001b[1m83s\u001b[0m 4s/step - accuracy: 0.1593 - loss: 2.7101 - top2_acc: 0.3293 - val_accuracy: 0.1066 - val_loss: 1.8315 - val_top2_acc: 0.4508 - learning_rate: 1.0000e-05\n",
            "Epoch 7/30\n",
            "\u001b[1m20/20\u001b[0m \u001b[32m━━━━━━━━━━━━━━━━━━━━\u001b[0m\u001b[37m\u001b[0m \u001b[1m0s\u001b[0m 3s/step - accuracy: 0.1683 - loss: 2.7111 - top2_acc: 0.3268\n",
            "Epoch 7: val_accuracy did not improve from 0.34836\n",
            "\u001b[1m20/20\u001b[0m \u001b[32m━━━━━━━━━━━━━━━━━━━━\u001b[0m\u001b[37m\u001b[0m \u001b[1m82s\u001b[0m 4s/step - accuracy: 0.1693 - loss: 2.7062 - top2_acc: 0.3280 - val_accuracy: 0.1025 - val_loss: 1.8506 - val_top2_acc: 0.1639 - learning_rate: 5.0000e-06\n",
            "Epoch 8/30\n",
            "\u001b[1m20/20\u001b[0m \u001b[32m━━━━━━━━━━━━━━━━━━━━\u001b[0m\u001b[37m\u001b[0m \u001b[1m0s\u001b[0m 3s/step - accuracy: 0.2023 - loss: 2.5800 - top2_acc: 0.3883\n",
            "Epoch 8: val_accuracy did not improve from 0.34836\n",
            "\u001b[1m20/20\u001b[0m \u001b[32m━━━━━━━━━━━━━━━━━━━━\u001b[0m\u001b[37m\u001b[0m \u001b[1m80s\u001b[0m 4s/step - accuracy: 0.2021 - loss: 2.5815 - top2_acc: 0.3877 - val_accuracy: 0.0943 - val_loss: 1.8869 - val_top2_acc: 0.1598 - learning_rate: 5.0000e-06\n",
            "Epoch 9/30\n",
            "\u001b[1m20/20\u001b[0m \u001b[32m━━━━━━━━━━━━━━━━━━━━\u001b[0m\u001b[37m\u001b[0m \u001b[1m0s\u001b[0m 3s/step - accuracy: 0.2120 - loss: 2.4561 - top2_acc: 0.3992\n",
            "Epoch 9: val_accuracy did not improve from 0.34836\n",
            "\u001b[1m20/20\u001b[0m \u001b[32m━━━━━━━━━━━━━━━━━━━━\u001b[0m\u001b[37m\u001b[0m \u001b[1m83s\u001b[0m 4s/step - accuracy: 0.2114 - loss: 2.4619 - top2_acc: 0.3981 - val_accuracy: 0.1025 - val_loss: 1.9310 - val_top2_acc: 0.1598 - learning_rate: 5.0000e-06\n",
            "Epoch 10/30\n",
            "\u001b[1m20/20\u001b[0m \u001b[32m━━━━━━━━━━━━━━━━━━━━\u001b[0m\u001b[37m\u001b[0m \u001b[1m0s\u001b[0m 3s/step - accuracy: 0.2373 - loss: 2.3819 - top2_acc: 0.4275\n",
            "Epoch 10: val_accuracy did not improve from 0.34836\n",
            "\u001b[1m20/20\u001b[0m \u001b[32m━━━━━━━━━━━━━━━━━━━━\u001b[0m\u001b[37m\u001b[0m \u001b[1m81s\u001b[0m 4s/step - accuracy: 0.2364 - loss: 2.3878 - top2_acc: 0.4258 - val_accuracy: 0.0574 - val_loss: 1.9722 - val_top2_acc: 0.1598 - learning_rate: 5.0000e-06\n",
            "Epoch 11/30\n",
            "\u001b[1m20/20\u001b[0m \u001b[32m━━━━━━━━━━━━━━━━━━━━\u001b[0m\u001b[37m\u001b[0m \u001b[1m0s\u001b[0m 3s/step - accuracy: 0.1896 - loss: 2.5704 - top2_acc: 0.3579\n",
            "Epoch 11: ReduceLROnPlateau reducing learning rate to 2.499999936844688e-06.\n",
            "\n",
            "Epoch 11: val_accuracy did not improve from 0.34836\n",
            "\u001b[1m20/20\u001b[0m \u001b[32m━━━━━━━━━━━━━━━━━━━━\u001b[0m\u001b[37m\u001b[0m \u001b[1m81s\u001b[0m 4s/step - accuracy: 0.1893 - loss: 2.5752 - top2_acc: 0.3575 - val_accuracy: 0.0574 - val_loss: 2.0257 - val_top2_acc: 0.1598 - learning_rate: 5.0000e-06\n",
            "Epoch 11: early stopping\n",
            "Restoring model weights from the end of the best epoch: 1.\n",
            "\u001b[1m9/9\u001b[0m \u001b[32m━━━━━━━━━━━━━━━━━━━━\u001b[0m\u001b[37m\u001b[0m \u001b[1m22s\u001b[0m 2s/step - accuracy: 0.6185 - loss: 1.6184 - top2_acc: 0.6441\n"
          ]
        },
        {
          "output_type": "stream",
          "name": "stderr",
          "text": [
            "WARNING:absl:You are saving your model as an HDF5 file via `model.save()` or `keras.saving.save_model(model)`. This file format is considered legacy. We recommend using instead the native Keras format, e.g. `model.save('my_model.keras')` or `keras.saving.save_model(model, 'my_model.keras')`. \n"
          ]
        },
        {
          "output_type": "stream",
          "name": "stdout",
          "text": [
            "\n",
            "Test Results:\n",
            "loss: 1.7686\n",
            "compile_metrics: 0.3420\n"
          ]
        }
      ]
    },
    {
      "cell_type": "code",
      "source": [
        "import matplotlib.pyplot as plt\n",
        "\n",
        "# Make sure to import matplotlib at the top of your code\n",
        "import matplotlib.pyplot as plt\n",
        "\n",
        "# Plot the training history\n",
        "def plot_training_history(history):\n",
        "    # Create a figure with 2 subplots side by side\n",
        "    plt.figure(figsize=(12, 4))\n",
        "\n",
        "    # Plot training & validation accuracy\n",
        "    plt.subplot(1, 2, 1)\n",
        "    plt.plot(history.history['accuracy'])\n",
        "    plt.plot(history.history['val_accuracy'])\n",
        "    plt.title('Model Accuracy')\n",
        "    plt.ylabel('Accuracy')\n",
        "    plt.xlabel('Epoch')\n",
        "    plt.legend(['Train', 'Validation'], loc='lower right')\n",
        "\n",
        "    # Plot training & validation loss\n",
        "    plt.subplot(1, 2, 2)\n",
        "    plt.plot(history.history['loss'])\n",
        "    plt.plot(history.history['val_loss'])\n",
        "    plt.title('Model Loss')\n",
        "    plt.ylabel('Loss')\n",
        "    plt.xlabel('Epoch')\n",
        "    plt.legend(['Train', 'Validation'], loc='upper right')\n",
        "\n",
        "    # Adjust layout to prevent overlap\n",
        "    plt.tight_layout()\n",
        "\n",
        "    # Display the plot\n",
        "    plt.show()\n",
        "\n",
        "# After training your model, call this function:\n",
        "plot_training_history(history)"
      ],
      "metadata": {
        "colab": {
          "base_uri": "https://localhost:8080/",
          "height": 407
        },
        "id": "UgvobVq8arFA",
        "outputId": "90532741-5d07-4a94-e708-9f2fc7cd35ff"
      },
      "execution_count": 16,
      "outputs": [
        {
          "output_type": "display_data",
          "data": {
            "text/plain": [
              "<Figure size 1200x400 with 2 Axes>"
            ],
            "image/png": "[encoded data removed]"
          },
          "metadata": {}
        }
      ]
    }
  ]
}