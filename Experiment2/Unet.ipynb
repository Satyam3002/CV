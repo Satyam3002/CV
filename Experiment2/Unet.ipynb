{
 "cells": [
  {
   "cell_type": "code",
   "execution_count": 1,
   "id": "c63d4e48",
   "metadata": {
    "execution": {
     "iopub.execute_input": "2025-02-06T15:12:33.391546Z",
     "iopub.status.busy": "2025-02-06T15:12:33.391282Z",
     "iopub.status.idle": "2025-02-06T15:12:33.873077Z",
     "shell.execute_reply": "2025-02-06T15:12:33.872078Z"
    },
    "papermill": {
     "duration": 0.486767,
     "end_time": "2025-02-06T15:12:33.874487",
     "exception": false,
     "start_time": "2025-02-06T15:12:33.387720",
     "status": "completed"
    },
    "tags": []
   },
   "outputs": [
    {
     "name": "stdout",
     "output_type": "stream",
     "text": [
      "Path to dataset files: /kaggle/input/thermal-images-diseased-healthy-leaves-paddy\n"
     ]
    }
   ],
   "source": [
    "import kagglehub\n",
    "\n",
    "# Download latest version\n",
    "path = kagglehub.dataset_download(\"sujaradha/thermal-images-diseased-healthy-leaves-paddy\")\n",
    "\n",
    "print(\"Path to dataset files:\", path)"
   ]
  },
  {
   "cell_type": "code",
   "execution_count": 2,
   "id": "0fa9e730",
   "metadata": {
    "execution": {
     "iopub.execute_input": "2025-02-06T15:12:33.879899Z",
     "iopub.status.busy": "2025-02-06T15:12:33.879670Z",
     "iopub.status.idle": "2025-02-06T15:13:16.811417Z",
     "shell.execute_reply": "2025-02-06T15:13:16.810479Z"
    },
    "papermill": {
     "duration": 42.938124,
     "end_time": "2025-02-06T15:13:16.815124",
     "exception": false,
     "start_time": "2025-02-06T15:12:33.877000",
     "status": "completed"
    },
    "tags": []
   },
   "outputs": [
    {
     "name": "stdout",
     "output_type": "stream",
     "text": [
      "✅ Augmented dataset created successfully with varied transformations!\n"
     ]
    }
   ],
   "source": [
    "import os\n",
    "import torch\n",
    "import torchvision.transforms as transforms\n",
    "from torchvision.datasets import ImageFolder\n",
    "from PIL import Image\n",
    "import random\n",
    "\n",
    "# Original dataset path\n",
    "dataset_path = \"/kaggle/input/thermal-images-diseased-healthy-leaves-paddy/thermal images UL\"\n",
    "augmented_dataset_path = \"/kaggle/working/augmented_dataset\"  # New folder for expanded dataset\n",
    "\n",
    "# List of individual augmentations (they will be applied randomly)\n",
    "possible_augmentations = [\n",
    "    transforms.RandomHorizontalFlip(p=1.0),  \n",
    "    transforms.RandomRotation(degrees=30),  \n",
    "    transforms.ColorJitter(brightness=0.3, contrast=0.3, saturation=0.3, hue=0.1),  \n",
    "    transforms.RandomAffine(degrees=0, translate=(0.2, 0.2)),  \n",
    "    transforms.RandomPerspective(distortion_scale=0.4, p=1.0),  \n",
    "    transforms.GaussianBlur(kernel_size=5, sigma=(0.1, 3.0)),  \n",
    "]\n",
    "\n",
    "# Load dataset\n",
    "original_dataset = ImageFolder(root=dataset_path)\n",
    "\n",
    "# Create new folder structure\n",
    "if not os.path.exists(augmented_dataset_path):\n",
    "    os.makedirs(augmented_dataset_path)\n",
    "\n",
    "for class_name in original_dataset.classes:\n",
    "    os.makedirs(os.path.join(augmented_dataset_path, class_name), exist_ok=True)\n",
    "\n",
    "# Number of augmentations per image\n",
    "num_augmentations = 8  \n",
    "\n",
    "for img_path, label in original_dataset.samples:\n",
    "    img = Image.open(img_path).convert(\"RGB\")\n",
    "    class_name = original_dataset.classes[label]\n",
    "    save_dir = os.path.join(augmented_dataset_path, class_name)\n",
    "\n",
    "    # Save original image\n",
    "    img.save(os.path.join(save_dir, os.path.basename(img_path)))\n",
    "\n",
    "    # Create augmented copies with **random augmentations**\n",
    "    for i in range(num_augmentations):\n",
    "        selected_augmentations = random.sample(possible_augmentations, k=random.randint(1, 3))  # Choose 1 to 3 random transformations\n",
    "        transform_pipeline = transforms.Compose([transforms.Resize((224, 224))] + selected_augmentations)  \n",
    "        \n",
    "        augmented_img = transform_pipeline(img)\n",
    "        save_path = os.path.join(save_dir, f\"aug_{i}_{os.path.basename(img_path)}\")\n",
    "        augmented_img.save(save_path)\n",
    "\n",
    "print(\"✅ Augmented dataset created successfully with varied transformations!\")"
   ]
  },
  {
   "cell_type": "code",
   "execution_count": 3,
   "id": "c8975f2b",
   "metadata": {
    "execution": {
     "iopub.execute_input": "2025-02-06T15:13:16.820359Z",
     "iopub.status.busy": "2025-02-06T15:13:16.819942Z",
     "iopub.status.idle": "2025-02-06T15:13:16.841883Z",
     "shell.execute_reply": "2025-02-06T15:13:16.841018Z"
    },
    "papermill": {
     "duration": 0.025919,
     "end_time": "2025-02-06T15:13:16.843228",
     "exception": false,
     "start_time": "2025-02-06T15:13:16.817309",
     "status": "completed"
    },
    "tags": []
   },
   "outputs": [
    {
     "name": "stdout",
     "output_type": "stream",
     "text": [
      "✅ Dataset Expanded to 5724 images!\n"
     ]
    }
   ],
   "source": [
    "from torch.utils.data import DataLoader\n",
    "import torchvision.transforms as transforms\n",
    "from torchvision.datasets import ImageFolder\n",
    "import torch\n",
    "\n",
    "# Load augmented dataset with proper transformations\n",
    "transform = transforms.Compose([\n",
    "    transforms.Resize((224, 224)),  # Ensure uniform image size\n",
    "    transforms.ToTensor(),\n",
    "    transforms.Normalize(mean=[0.485, 0.456, 0.406], std=[0.229, 0.224, 0.225])\n",
    "])\n",
    "\n",
    "augmented_dataset = ImageFolder(root=augmented_dataset_path, transform=transform)\n",
    "\n",
    "# Split into Train, Validation, and Test sets\n",
    "train_size = int(0.6 * len(augmented_dataset))\n",
    "val_size = int(0.2 * len(augmented_dataset))\n",
    "test_size = len(augmented_dataset) - train_size - val_size\n",
    "train_dataset, val_dataset, test_dataset = torch.utils.data.random_split(augmented_dataset, [train_size, val_size, test_size])\n",
    "\n",
    "# Define DataLoaders\n",
    "batch_size = 32\n",
    "\n",
    "# When using U-Net for classification, the input shape is unchanged\n",
    "# But we want to make sure the DataLoader's output fits with the U-Net architecture\n",
    "train_loader = DataLoader(train_dataset, batch_size=batch_size, shuffle=True, num_workers=2)\n",
    "val_loader = DataLoader(val_dataset, batch_size=batch_size, shuffle=False, num_workers=2)\n",
    "test_loader = DataLoader(test_dataset, batch_size=batch_size, shuffle=False, num_workers=2)\n",
    "\n",
    "print(f\"✅ Dataset Expanded to {len(augmented_dataset)} images!\")"
   ]
  },
  {
   "cell_type": "code",
   "execution_count": 4,
   "id": "4bc4d00a",
   "metadata": {
    "execution": {
     "iopub.execute_input": "2025-02-06T15:13:16.848356Z",
     "iopub.status.busy": "2025-02-06T15:13:16.848102Z",
     "iopub.status.idle": "2025-02-06T15:14:25.031914Z",
     "shell.execute_reply": "2025-02-06T15:14:25.030925Z"
    },
    "papermill": {
     "duration": 68.187836,
     "end_time": "2025-02-06T15:14:25.033282",
     "exception": false,
     "start_time": "2025-02-06T15:13:16.845446",
     "status": "completed"
    },
    "tags": []
   },
   "outputs": [
    {
     "name": "stdout",
     "output_type": "stream",
     "text": [
      "Using device: cuda\n"
     ]
    },
    {
     "name": "stderr",
     "output_type": "stream",
     "text": [
      "/usr/local/lib/python3.10/dist-packages/torchvision/models/_utils.py:208: UserWarning: The parameter 'pretrained' is deprecated since 0.13 and may be removed in the future, please use 'weights' instead.\n",
      "  warnings.warn(\n",
      "/usr/local/lib/python3.10/dist-packages/torchvision/models/_utils.py:223: UserWarning: Arguments other than a weight enum or `None` for 'weights' are deprecated since 0.13 and may be removed in the future. The current behavior is equivalent to passing `weights=ResNet18_Weights.IMAGENET1K_V1`. You can also use `weights=ResNet18_Weights.DEFAULT` to get the most up-to-date weights.\n",
      "  warnings.warn(msg)\n",
      "Downloading: \"https://download.pytorch.org/models/resnet18-f37072fd.pth\" to /root/.cache/torch/hub/checkpoints/resnet18-f37072fd.pth\n",
      "100%|██████████| 44.7M/44.7M [00:00<00:00, 190MB/s]\n",
      "Epoch 1/10: 100%|██████████| 108/108 [00:08<00:00, 13.48it/s, acc=38.67%, loss=2.0103]\n",
      "Epoch 2/10: 100%|██████████| 108/108 [00:06<00:00, 16.50it/s, acc=75.74%, loss=0.6677]\n",
      "Epoch 3/10: 100%|██████████| 108/108 [00:06<00:00, 16.37it/s, acc=93.80%, loss=0.2264]\n",
      "Epoch 4/10: 100%|██████████| 108/108 [00:06<00:00, 16.45it/s, acc=96.83%, loss=0.1043]\n",
      "Epoch 5/10: 100%|██████████| 108/108 [00:06<00:00, 16.29it/s, acc=98.25%, loss=0.0578]\n",
      "Epoch 6/10: 100%|██████████| 108/108 [00:06<00:00, 16.50it/s, acc=97.32%, loss=0.0777]\n",
      "Epoch 7/10: 100%|██████████| 108/108 [00:06<00:00, 16.50it/s, acc=98.86%, loss=0.0478]\n",
      "Epoch 8/10: 100%|██████████| 108/108 [00:06<00:00, 16.49it/s, acc=99.16%, loss=0.0276]\n",
      "Epoch 9/10: 100%|██████████| 108/108 [00:06<00:00, 16.35it/s, acc=98.95%, loss=0.0318]\n",
      "Epoch 10/10: 100%|██████████| 108/108 [00:06<00:00, 16.20it/s, acc=98.43%, loss=0.0396]\n"
     ]
    },
    {
     "name": "stdout",
     "output_type": "stream",
     "text": [
      "\n",
      "🚀 Model saved as unet_trained.pth\n"
     ]
    }
   ],
   "source": [
    "import torch\n",
    "import torch.nn as nn\n",
    "import torch.optim as optim\n",
    "from tqdm import tqdm\n",
    "from torch.utils.data import DataLoader\n",
    "import numpy as np\n",
    "from torchvision import models\n",
    "from torch.amp import GradScaler\n",
    "\n",
    "# Define the UNet model for classification\n",
    "import torch\n",
    "import torch.nn as nn\n",
    "import torchvision.models as models\n",
    "\n",
    "class UNetClassification(nn.Module):\n",
    "    def __init__(self, num_classes=6):\n",
    "        super(UNetClassification, self).__init__()\n",
    "        self.encoder = models.resnet18(pretrained=True)\n",
    "        self.encoder.fc = nn.Identity()  # Remove FC layer, keep feature maps\n",
    "\n",
    "        # U-Net Decoder (simple version)\n",
    "        self.decoder = nn.Sequential(\n",
    "            nn.ConvTranspose2d(512, 256, kernel_size=3, stride=2, padding=1, output_padding=1),\n",
    "            nn.ReLU(),\n",
    "            nn.ConvTranspose2d(256, 128, kernel_size=3, stride=2, padding=1, output_padding=1),\n",
    "            nn.ReLU(),\n",
    "            nn.AdaptiveAvgPool2d((1, 1)),  # Reduce to (batch_size, 128, 1, 1)\n",
    "            nn.Flatten(),  # Convert to (batch_size, 128)\n",
    "            nn.Linear(128, num_classes)  # Final classification layer\n",
    "        )\n",
    "\n",
    "    def forward(self, x):\n",
    "        x = self.encoder(x)  # Extract features -> shape: (batch_size, 512)\n",
    "        x = x.view(x.shape[0], 512, 1, 1)  # Reshape to (batch_size, 512, 1, 1)\n",
    "        x = self.decoder(x)  # Decode and classify\n",
    "        return x\n",
    "\n",
    "\n",
    "# Set device\n",
    "device = torch.device(\"cuda\" if torch.cuda.is_available() else \"cpu\")\n",
    "print(f\"Using device: {device}\")\n",
    "\n",
    "# Initialize the UNet model for classification\n",
    "model = UNetClassification(num_classes=38)\n",
    "model = model.to(device)\n",
    "\n",
    "# Define loss and optimizer\n",
    "criterion = nn.CrossEntropyLoss()\n",
    "optimizer = optim.Adam(model.parameters(), lr=0.0001)\n",
    "\n",
    "# Enable Mixed Precision Training\n",
    "scaler = GradScaler()\n",
    "\n",
    "# DataLoader optimizations (Assuming train_dataset, val_dataset, and test_dataset are already defined)\n",
    "train_loader = DataLoader(train_dataset, batch_size=32, shuffle=True, num_workers=4, pin_memory=True)\n",
    "val_loader = DataLoader(val_dataset, batch_size=32, shuffle=False, num_workers=4, pin_memory=True)\n",
    "test_loader = DataLoader(test_dataset, batch_size=32, shuffle=False, num_workers=4, pin_memory=True)\n",
    "\n",
    "# Training setup\n",
    "num_epochs = 10\n",
    "train_acc_history = []\n",
    "val_acc_history = []\n",
    "test_acc_history = []\n",
    "\n",
    "for epoch in range(num_epochs):\n",
    "    model.train()\n",
    "    correct = 0\n",
    "    total = 0\n",
    "    running_loss = 0.0\n",
    "\n",
    "    loop = tqdm(train_loader, leave=True, desc=f\"Epoch {epoch+1}/{num_epochs}\")\n",
    "    for images, labels in loop:\n",
    "        images = images.to(device)  # No need to index, just move tensor to device\n",
    "        labels = labels.to(device)  # Move labels to device\n",
    "        \n",
    "        optimizer.zero_grad()\n",
    "\n",
    "        with torch.amp.autocast(device_type=\"cuda\"):\n",
    "            outputs = model(images)\n",
    "            loss = criterion(outputs, labels)\n",
    "\n",
    "        scaler.scale(loss).backward()\n",
    "        scaler.step(optimizer)\n",
    "        scaler.update()\n",
    "\n",
    "        running_loss += loss.item()\n",
    "        _, predicted = torch.max(outputs, 1)\n",
    "        correct += (predicted == labels).sum().item()\n",
    "        total += labels.size(0)\n",
    "\n",
    "        loop.set_postfix(loss=f\"{running_loss / len(train_loader):.4f}\", acc=f\"{100 * correct / total:.2f}%\")\n",
    "\n",
    "# Save the trained model\n",
    "torch.save(model.state_dict(), \"unet_trained.pth\")\n",
    "print(\"\\n🚀 Model saved as unet_trained.pth\")"
   ]
  },
  {
   "cell_type": "code",
   "execution_count": 5,
   "id": "1c14022b",
   "metadata": {
    "execution": {
     "iopub.execute_input": "2025-02-06T15:14:25.184294Z",
     "iopub.status.busy": "2025-02-06T15:14:25.183978Z",
     "iopub.status.idle": "2025-02-06T15:14:31.469231Z",
     "shell.execute_reply": "2025-02-06T15:14:31.468071Z"
    },
    "papermill": {
     "duration": 6.361411,
     "end_time": "2025-02-06T15:14:31.470576",
     "exception": false,
     "start_time": "2025-02-06T15:14:25.109165",
     "status": "completed"
    },
    "tags": []
   },
   "outputs": [
    {
     "name": "stdout",
     "output_type": "stream",
     "text": [
      "\n",
      "📊 Final Per-Class Training Accuracy:\n",
      "\n",
      "BLB: Training = 100.00%\n",
      "Blast: Training = 100.00%\n",
      "healthy: Training = 100.00%\n",
      "hispa: Training = 100.00%\n",
      "leaf folder: Training = 100.00%\n",
      "leaf spot: Training = 98.14%\n",
      "\n",
      "📊 Final Per-Class Validation Accuracy:\n",
      "\n",
      "BLB: Validation = 98.99%\n",
      "Blast: Validation = 97.46%\n",
      "healthy: Validation = 96.88%\n",
      "hispa: Validation = 98.48%\n",
      "leaf folder: Validation = 92.73%\n",
      "leaf spot: Validation = 92.62%\n",
      "\n",
      "📊 Final Per-Class Test Accuracy:\n",
      "\n",
      "BLB: Test = 98.38%\n",
      "Blast: Test = 95.83%\n",
      "healthy: Test = 98.40%\n",
      "hispa: Test = 99.24%\n",
      "leaf folder: Test = 100.00%\n",
      "leaf spot: Test = 90.14%\n"
     ]
    }
   ],
   "source": [
    "import numpy as np\n",
    "import torch\n",
    "\n",
    "# Extract class names from the dataset\n",
    "class_names = augmented_dataset.classes  # Ensure dataset has class names\n",
    "num_classes = len(class_names)  # Get the correct number of classes\n",
    "\n",
    "# Function to calculate per-class accuracy for different datasets\n",
    "def calculate_per_class_accuracy(model, data_loaders, device, datasets=[\"Training\", \"Validation\", \"Test\"]):\n",
    "    for dataset_type, data_loader in zip(datasets, data_loaders):\n",
    "        model.eval()\n",
    "        class_correct = np.zeros(num_classes)  # Match the actual class count\n",
    "        class_total = np.zeros(num_classes)\n",
    "\n",
    "        with torch.no_grad():\n",
    "            for images, labels in data_loader:\n",
    "                images, labels = images.to(device), labels.to(device)\n",
    "                outputs = model(images)\n",
    "                _, predicted = torch.max(outputs, 1)\n",
    "\n",
    "                for i in range(len(labels)):\n",
    "                    label = labels[i].item()\n",
    "                    class_correct[label] += (predicted[i] == label).item()\n",
    "                    class_total[label] += 1\n",
    "\n",
    "        # Print per-class accuracy\n",
    "        print(f\"\\n📊 Final Per-Class {dataset_type} Accuracy:\\n\")\n",
    "        for i in range(num_classes):  # Use actual class count\n",
    "            if class_total[i] > 0:\n",
    "                accuracy = 100 * class_correct[i] / class_total[i]\n",
    "                print(f\"{class_names[i]}: {dataset_type} = {accuracy:.2f}%\")\n",
    "            else:\n",
    "                print(f\"{class_names[i]}: {dataset_type} = No samples available ❌\")\n",
    "\n",
    "# ---------- Calculate Per-Class Accuracy for Training, Validation, and Test Data ----------\n",
    "# List of data loaders for training, validation, and test datasets\n",
    "data_loaders = [train_loader, val_loader, test_loader]\n",
    "\n",
    "# List of dataset names\n",
    "datasets = [\"Training\", \"Validation\", \"Test\"]\n",
    "\n",
    "# Call the function for calculating accuracy\n",
    "calculate_per_class_accuracy(model, data_loaders, device, datasets=datasets)"
   ]
  },
  {
   "cell_type": "code",
   "execution_count": 6,
   "id": "178d614d",
   "metadata": {
    "execution": {
     "iopub.execute_input": "2025-02-06T15:14:31.622771Z",
     "iopub.status.busy": "2025-02-06T15:14:31.622428Z",
     "iopub.status.idle": "2025-02-06T15:14:35.762101Z",
     "shell.execute_reply": "2025-02-06T15:14:35.761146Z"
    },
    "papermill": {
     "duration": 4.217556,
     "end_time": "2025-02-06T15:14:35.763677",
     "exception": false,
     "start_time": "2025-02-06T15:14:31.546121",
     "status": "completed"
    },
    "tags": []
   },
   "outputs": [
    {
     "name": "stdout",
     "output_type": "stream",
     "text": [
      "✅ Test Accuracy: 97.38%\n"
     ]
    },
    {
     "data": {
      "image/png": "[encoded data removed]",
      "text/plain": [
       "<Figure size 1000x500 with 1 Axes>"
      ]
     },
     "metadata": {},
     "output_type": "display_data"
    }
   ],
   "source": [
    "import numpy as np\n",
    "import torch\n",
    "from sklearn.metrics import precision_recall_curve, average_precision_score\n",
    "import matplotlib.pyplot as plt\n",
    "\n",
    "# Initialize lists for storing true labels and predicted probabilities\n",
    "y_true = []\n",
    "y_scores = []\n",
    "\n",
    "# Switch to evaluation mode\n",
    "model.eval()\n",
    "\n",
    "# Test Accuracy and collect predictions\n",
    "correct = 0\n",
    "total = 0\n",
    "with torch.no_grad():\n",
    "    for images, labels in test_loader:\n",
    "        images, labels = images.to(device), labels.to(device)\n",
    "        outputs = model(images)\n",
    "        _, predicted = torch.max(outputs, 1)\n",
    "        correct += (predicted == labels).sum().item()\n",
    "        total += labels.size(0)\n",
    "\n",
    "test_acc = 100 * correct / total\n",
    "print(f\"✅ Test Accuracy: {test_acc:.2f}%\")\n",
    "\n",
    "# Collect true labels and predicted probabilities for PR Curve\n",
    "with torch.no_grad():\n",
    "    for images, labels in test_loader:\n",
    "        images, labels = images.to(device), labels.to(device)\n",
    "        outputs = model(images)\n",
    "        probs = torch.nn.functional.softmax(outputs, dim=1)\n",
    "        \n",
    "        y_true.extend(labels.cpu().numpy())\n",
    "        y_scores.extend(probs.cpu().numpy())\n",
    "\n",
    "# Convert lists to numpy arrays for PR curve calculation\n",
    "y_true = np.array(y_true)\n",
    "y_scores = np.array(y_scores)\n",
    "\n",
    "# Plot Precision-Recall curves for each class\n",
    "plt.figure(figsize=(10, 5))\n",
    "for i in range(len(class_names)):\n",
    "    precision, recall, _ = precision_recall_curve(y_true == i, y_scores[:, i])\n",
    "    avg_precision = average_precision_score(y_true == i, y_scores[:, i])\n",
    "    plt.plot(recall, precision, label=f\"{class_names[i]} (AP={avg_precision:.2f})\")\n",
    "\n",
    "plt.xlabel(\"Recall\")\n",
    "plt.ylabel(\"Precision\")\n",
    "plt.title(\"Precision-Recall Curve for Plant Disease Classification\")\n",
    "plt.legend()\n",
    "plt.show()"
   ]
  }
 ],
 "metadata": {
  "kaggle": {
   "accelerator": "gpu",
   "dataSources": [
    {
     "datasetId": 608236,
     "sourceId": 1091061,
     "sourceType": "datasetVersion"
    }
   ],
   "dockerImageVersionId": 30840,
   "isGpuEnabled": true,
   "isInternetEnabled": true,
   "language": "python",
   "sourceType": "notebook"
  },
  "kernelspec": {
   "display_name": "Python 3",
   "language": "python",
   "name": "python3"
  },
  "language_info": {
   "codemirror_mode": {
    "name": "ipython",
    "version": 3
   },
   "file_extension": ".py",
   "mimetype": "text/x-python",
   "name": "python",
   "nbconvert_exporter": "python",
   "pygments_lexer": "ipython3",
   "version": "3.10.12"
  },
  "papermill": {
   "default_parameters": {},
   "duration": 127.820526,
   "end_time": "2025-02-06T15:14:38.622366",
   "environment_variables": {},
   "exception": null,
   "input_path": "__notebook__.ipynb",
   "output_path": "__notebook__.ipynb",
   "parameters": {},
   "start_time": "2025-02-06T15:12:30.801840",
   "version": "2.6.0"
  }
 },
 "nbformat": 4,
 "nbformat_minor": 5
}
