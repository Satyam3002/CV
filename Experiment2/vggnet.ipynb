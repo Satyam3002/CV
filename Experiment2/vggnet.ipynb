{
 "cells": [
  {
   "cell_type": "code",
   "execution_count": 1,
   "id": "3c0d1f4e",
   "metadata": {
    "_cell_guid": "b1076dfc-b9ad-4769-8c92-a6c4dae69d19",
    "_uuid": "8f2839f25d086af736a60e9eeb907d3b93b6e0e5",
    "execution": {
     "iopub.execute_input": "2025-02-10T11:08:19.253186Z",
     "iopub.status.busy": "2025-02-10T11:08:19.252890Z",
     "iopub.status.idle": "2025-02-10T11:08:27.500729Z",
     "shell.execute_reply": "2025-02-10T11:08:27.500004Z"
    },
    "papermill": {
     "duration": 8.253325,
     "end_time": "2025-02-10T11:08:27.502194",
     "exception": false,
     "start_time": "2025-02-10T11:08:19.248869",
     "status": "completed"
    },
    "tags": []
   },
   "outputs": [],
   "source": [
    "import numpy as np \n",
    "import pandas as pd \n",
    "import os\n",
    "import os\n",
    "import torch\n",
    "import torchvision.transforms as transforms\n",
    "from torchvision.datasets import ImageFolder\n",
    "from PIL import Image\n",
    "import random\n",
    "# for dirname, _, filenames in os.walk('/kaggle/input'):\n",
    "#     for filename in filenames:\n",
    "#         print(os.path.join(dirname, filename))"
   ]
  },
  {
   "cell_type": "code",
   "execution_count": 2,
   "id": "f8a75fb0",
   "metadata": {
    "execution": {
     "iopub.execute_input": "2025-02-10T11:08:27.508757Z",
     "iopub.status.busy": "2025-02-10T11:08:27.508336Z",
     "iopub.status.idle": "2025-02-10T11:08:27.512216Z",
     "shell.execute_reply": "2025-02-10T11:08:27.511429Z"
    },
    "papermill": {
     "duration": 0.008174,
     "end_time": "2025-02-10T11:08:27.513426",
     "exception": false,
     "start_time": "2025-02-10T11:08:27.505252",
     "status": "completed"
    },
    "tags": []
   },
   "outputs": [],
   "source": [
    "# import os\n",
    "# import torch\n",
    "# import torchvision.transforms as transforms\n",
    "# from torchvision.datasets import ImageFolder\n",
    "# from PIL import Image\n",
    "# import random\n",
    "\n",
    "# dataset_path = \"/kaggle/input/thermal-images-diseased-healthy-leaves-paddy/thermal images UL\"\n",
    "# augmented_dataset_path = \"/kaggle/working/augmented_dataset\"  \n",
    "# possible_augmentations = [\n",
    "#     transforms.RandomHorizontalFlip(p=1.0),  \n",
    "#     transforms.RandomRotation(degrees=30),  \n",
    "#     transforms.ColorJitter(brightness=0.3, contrast=0.3, saturation=0.3, hue=0.1),  \n",
    "#     transforms.RandomAffine(degrees=0, translate=(0.2, 0.2)),  \n",
    "#     transforms.RandomPerspective(distortion_scale=0.4, p=1.0),  \n",
    "#     transforms.GaussianBlur(kernel_size=5, sigma=(0.1, 3.0)),  \n",
    "# ]\n",
    "\n",
    "# original_dataset = ImageFolder(root=dataset_path)\n",
    "# if not os.path.exists(augmented_dataset_path):\n",
    "#     os.makedirs(augmented_dataset_path)\n",
    "\n",
    "# for class_name in original_dataset.classes:\n",
    "#     os.makedirs(os.path.join(augmented_dataset_path, class_name), exist_ok=True)\n",
    "\n",
    "# num_augmentations = 8  \n",
    "# for img_path, label in original_dataset.samples:\n",
    "#     img = Image.open(img_path).convert(\"RGB\")\n",
    "#     class_name = original_dataset.classes[label]\n",
    "#     save_dir = os.path.join(augmented_dataset_path, class_name)\n",
    "\n",
    "#     img.save(os.path.join(save_dir, os.path.basename(img_path)))\n",
    "#     for i in range(num_augmentations):\n",
    "#         selected_augmentations = random.sample(possible_augmentations, k=random.randint(1, 3)) \n",
    "#         transform_pipeline = transforms.Compose([transforms.Resize((227, 227))] + selected_augmentations)  \n",
    "        \n",
    "#         augmented_img = transform_pipeline(img)\n",
    "#         save_path = os.path.join(save_dir, f\"aug_{i}_{os.path.basename(img_path)}\")\n",
    "#         augmented_img.save(save_path)\n",
    "\n",
    "# print(f\"Dataset is completely augmented \")"
   ]
  },
  {
   "cell_type": "code",
   "execution_count": 3,
   "id": "ede93245",
   "metadata": {
    "execution": {
     "iopub.execute_input": "2025-02-10T11:08:27.519212Z",
     "iopub.status.busy": "2025-02-10T11:08:27.518945Z",
     "iopub.status.idle": "2025-02-10T11:08:27.522065Z",
     "shell.execute_reply": "2025-02-10T11:08:27.521291Z"
    },
    "papermill": {
     "duration": 0.007279,
     "end_time": "2025-02-10T11:08:27.523239",
     "exception": false,
     "start_time": "2025-02-10T11:08:27.515960",
     "status": "completed"
    },
    "tags": []
   },
   "outputs": [],
   "source": [
    "# import shutil\n",
    "# import os\n",
    "\n",
    "# def zip_folder(folder_path, output_zip_path):\n",
    "#     if not os.path.exists(folder_path):\n",
    "#         print(f\"Error: The folder '{folder_path}' does not exist.\")\n",
    "#         return\n",
    "#     shutil.make_archive(output_zip_path, 'zip', folder_path)\n",
    "#     print(f\"Folder '{folder_path}' has been zipped to '{output_zip_path}.zip'\")\n",
    "\n",
    "# zip_folder(\"/kaggle/working/augmented_dataset\", \"/kaggle/working/augmented_dataset_zip_file\")\n",
    "# print(f\"successfully zipped\")"
   ]
  },
  {
   "cell_type": "code",
   "execution_count": 4,
   "id": "d2703715",
   "metadata": {
    "execution": {
     "iopub.execute_input": "2025-02-10T11:08:27.528709Z",
     "iopub.status.busy": "2025-02-10T11:08:27.528449Z",
     "iopub.status.idle": "2025-02-10T11:08:27.531551Z",
     "shell.execute_reply": "2025-02-10T11:08:27.530833Z"
    },
    "papermill": {
     "duration": 0.007194,
     "end_time": "2025-02-10T11:08:27.532820",
     "exception": false,
     "start_time": "2025-02-10T11:08:27.525626",
     "status": "completed"
    },
    "tags": []
   },
   "outputs": [],
   "source": [
    "augmented_dataset_path = \"/kaggle/input/thermal-dataset\""
   ]
  },
  {
   "cell_type": "code",
   "execution_count": 5,
   "id": "a4e7d062",
   "metadata": {
    "execution": {
     "iopub.execute_input": "2025-02-10T11:08:27.538298Z",
     "iopub.status.busy": "2025-02-10T11:08:27.538036Z",
     "iopub.status.idle": "2025-02-10T11:08:37.002255Z",
     "shell.execute_reply": "2025-02-10T11:08:37.001531Z"
    },
    "papermill": {
     "duration": 9.468612,
     "end_time": "2025-02-10T11:08:37.003805",
     "exception": false,
     "start_time": "2025-02-10T11:08:27.535193",
     "status": "completed"
    },
    "tags": []
   },
   "outputs": [],
   "source": [
    "from torch.utils.data import DataLoader\n",
    "\n",
    "transform = transforms.Compose([\n",
    "    transforms.Resize((227, 227)), \n",
    "    transforms.ToTensor(),\n",
    "    transforms.Normalize(mean=[0.485, 0.456, 0.406], std=[0.229, 0.224, 0.225])\n",
    "])\n",
    "augmented_dataset = ImageFolder(root=augmented_dataset_path, transform=transform)\n",
    "train_size = int(0.6 * len(augmented_dataset))\n",
    "val_size = int(0.2 * len(augmented_dataset))\n",
    "test_size = len(augmented_dataset) - train_size - val_size\n",
    "train_dataset, val_dataset, test_dataset = torch.utils.data.random_split(augmented_dataset, [train_size, val_size, test_size])\n",
    "\n",
    "batch_size = 32\n",
    "train_loader = DataLoader(train_dataset, batch_size=batch_size, shuffle=True, num_workers=2)\n",
    "val_loader = DataLoader(val_dataset, batch_size=batch_size, shuffle=False, num_workers=2)\n",
    "test_loader = DataLoader(test_dataset, batch_size=batch_size, shuffle=False, num_workers=2)"
   ]
  },
  {
   "cell_type": "code",
   "execution_count": 6,
   "id": "4e9d1c03",
   "metadata": {
    "execution": {
     "iopub.execute_input": "2025-02-10T11:08:37.009957Z",
     "iopub.status.busy": "2025-02-10T11:08:37.009668Z",
     "iopub.status.idle": "2025-02-10T11:19:17.894360Z",
     "shell.execute_reply": "2025-02-10T11:19:17.893360Z"
    },
    "papermill": {
     "duration": 640.889292,
     "end_time": "2025-02-10T11:19:17.895758",
     "exception": false,
     "start_time": "2025-02-10T11:08:37.006466",
     "status": "completed"
    },
    "tags": []
   },
   "outputs": [
    {
     "name": "stdout",
     "output_type": "stream",
     "text": [
      "Using device: cuda\n"
     ]
    },
    {
     "name": "stderr",
     "output_type": "stream",
     "text": [
      "Downloading: \"https://download.pytorch.org/models/vgg16-397923af.pth\" to /root/.cache/torch/hub/checkpoints/vgg16-397923af.pth\n",
      "100%|██████████| 528M/528M [00:02<00:00, 235MB/s]\n"
     ]
    },
    {
     "name": "stdout",
     "output_type": "stream",
     "text": [
      "Loss: 1.5955, Accuracy: 33.78%\n",
      "Loss: 1.4086, Accuracy: 42.28%\n",
      "Loss: 1.3021, Accuracy: 48.25%\n",
      "Loss: 1.2407, Accuracy: 51.98%\n",
      "Loss: 1.1786, Accuracy: 54.54%\n",
      "Loss: 1.1440, Accuracy: 55.88%\n",
      "Loss: 1.1115, Accuracy: 57.95%\n",
      "Loss: 1.0892, Accuracy: 58.82%\n",
      "Loss: 1.0636, Accuracy: 60.02%\n",
      "Loss: 1.0481, Accuracy: 59.93%\n",
      "Loss: 1.0344, Accuracy: 61.15%\n",
      "Loss: 1.0099, Accuracy: 62.58%\n",
      "Loss: 1.0161, Accuracy: 60.83%\n",
      "Loss: 0.9876, Accuracy: 62.58%\n",
      "Loss: 0.9876, Accuracy: 62.55%\n",
      "Loss: 0.9709, Accuracy: 63.69%\n",
      "Loss: 0.9546, Accuracy: 63.89%\n",
      "Loss: 0.9533, Accuracy: 63.92%\n",
      "Loss: 0.9455, Accuracy: 64.24%\n",
      "Loss: 0.9399, Accuracy: 63.72%\n",
      "Loss: 0.9341, Accuracy: 65.49%\n",
      "Loss: 0.9230, Accuracy: 65.73%\n",
      "Loss: 0.9028, Accuracy: 66.42%\n",
      "Loss: 0.9149, Accuracy: 64.91%\n",
      "Loss: 0.9075, Accuracy: 65.38%\n",
      "Loss: 0.8954, Accuracy: 65.55%\n",
      "Loss: 0.9054, Accuracy: 65.93%\n",
      "Loss: 0.8838, Accuracy: 66.66%\n",
      "Loss: 0.8823, Accuracy: 66.69%\n",
      "Loss: 0.8770, Accuracy: 66.89%\n",
      "Loss: 0.8644, Accuracy: 67.91%\n",
      "Loss: 0.8880, Accuracy: 66.28%\n",
      "Loss: 0.8679, Accuracy: 66.89%\n",
      "Loss: 0.8641, Accuracy: 67.18%\n",
      "Loss: 0.8666, Accuracy: 67.53%\n",
      "Loss: 0.8431, Accuracy: 67.65%\n",
      "Loss: 0.8596, Accuracy: 68.23%\n",
      "Loss: 0.8504, Accuracy: 67.68%\n",
      "Loss: 0.8584, Accuracy: 68.00%\n",
      "Loss: 0.8495, Accuracy: 67.85%\n",
      "Loss: 0.8405, Accuracy: 67.82%\n",
      "Loss: 0.8334, Accuracy: 69.42%\n",
      "Loss: 0.8434, Accuracy: 68.52%\n",
      "Loss: 0.8457, Accuracy: 67.59%\n",
      "Loss: 0.8275, Accuracy: 68.90%\n",
      "Loss: 0.8196, Accuracy: 69.07%\n",
      "Loss: 0.8239, Accuracy: 68.72%\n",
      "Loss: 0.8249, Accuracy: 70.41%\n",
      "Loss: 0.8270, Accuracy: 68.14%\n",
      "Loss: 0.8277, Accuracy: 68.61%\n",
      "Loss: 0.8133, Accuracy: 69.39%\n",
      "Loss: 0.8149, Accuracy: 70.01%\n",
      "Loss: 0.8127, Accuracy: 69.37%\n",
      "Loss: 0.8088, Accuracy: 68.96%\n",
      "Loss: 0.7989, Accuracy: 70.68%\n",
      "Loss: 0.8220, Accuracy: 68.75%\n",
      "Loss: 0.8076, Accuracy: 69.42%\n",
      "Loss: 0.7938, Accuracy: 69.10%\n",
      "Loss: 0.8135, Accuracy: 69.02%\n",
      "Loss: 0.8039, Accuracy: 69.77%\n",
      "Loss: 0.8085, Accuracy: 69.54%\n",
      "Loss: 0.7995, Accuracy: 70.53%\n",
      "Loss: 0.7974, Accuracy: 70.36%\n",
      "Loss: 0.8049, Accuracy: 69.57%\n",
      "Loss: 0.8056, Accuracy: 69.57%\n",
      "Loss: 0.7841, Accuracy: 70.27%\n",
      "Loss: 0.7824, Accuracy: 70.79%\n",
      "Loss: 0.7806, Accuracy: 70.56%\n",
      "Loss: 0.7783, Accuracy: 70.27%\n",
      "Loss: 0.7974, Accuracy: 69.83%\n",
      "\n",
      " Model saved as alexnet_trained.pth\n"
     ]
    }
   ],
   "source": [
    "import torch\n",
    "import torch.nn as nn\n",
    "import torch.optim as optim\n",
    "import torchvision.models as models\n",
    "from tqdm import tqdm\n",
    "from torch.utils.data import DataLoader\n",
    "\n",
    "device = torch.device(\"cuda\" if torch.cuda.is_available() else \"cpu\")\n",
    "print(f\"Using device: {device}\")\n",
    "\n",
    "model = models.vgg16(weights=models.VGG16_Weights.IMAGENET1K_V1)\n",
    "num_ftrs = model.classifier[6].in_features \n",
    "num_classes = 6  \n",
    "model.classifier[6] = nn.Linear(num_ftrs, num_classes)\n",
    "\n",
    "for param in model.parameters():\n",
    "    param.requires_grad = False\n",
    "for param in model.classifier[6].parameters():\n",
    "    param.requires_grad = True\n",
    "\n",
    "model = model.to(device)\n",
    "criterion = nn.CrossEntropyLoss()\n",
    "optimizer = optim.Adam(model.classifier[6].parameters(), lr=0.0001)\n",
    "scaler = torch.amp.GradScaler()\n",
    "\n",
    "train_loader = DataLoader(train_dataset, batch_size=32, shuffle=True, num_workers=4, pin_memory=True)\n",
    "val_loader = DataLoader(val_dataset, batch_size=32, shuffle=False, num_workers=4, pin_memory=True)\n",
    "test_loader = DataLoader(test_dataset, batch_size=32, shuffle=False, num_workers=4, pin_memory=True)\n",
    "\n",
    "num_epochs = 70\n",
    "train_acc_history = []\n",
    "val_acc_history = []\n",
    "test_acc_history = []\n",
    "\n",
    "for epoch in range(num_epochs):\n",
    "    model.train()\n",
    "    correct = 0\n",
    "    total = 0\n",
    "    running_loss = 0.0\n",
    "\n",
    "    for images, labels in train_loader:\n",
    "        images, labels = images.to(device), labels.to(device)\n",
    "\n",
    "        optimizer.zero_grad()\n",
    "\n",
    "        with torch.amp.autocast(device_type=\"cuda\"):\n",
    "            outputs = model(images)\n",
    "            loss = criterion(outputs, labels)\n",
    "\n",
    "        scaler.scale(loss).backward()\n",
    "        scaler.step(optimizer)\n",
    "        scaler.update()\n",
    "\n",
    "        running_loss += loss.item()\n",
    "        _, predicted = torch.max(outputs, 1)\n",
    "        correct += (predicted == labels).sum().item()\n",
    "        total += labels.size(0)\n",
    "    print(f\"Loss: {running_loss / len(train_loader):.4f}, Accuracy: {100 * correct / total:.2f}%\")\n",
    "\n",
    "torch.save(model.state_dict(), \"vggnet_trained.pth\")\n",
    "print(\"\\n Model saved as alexnet_trained.pth\")"
   ]
  },
  {
   "cell_type": "code",
   "execution_count": 7,
   "id": "52147d70",
   "metadata": {
    "execution": {
     "iopub.execute_input": "2025-02-10T11:19:17.910655Z",
     "iopub.status.busy": "2025-02-10T11:19:17.910321Z",
     "iopub.status.idle": "2025-02-10T11:19:34.519406Z",
     "shell.execute_reply": "2025-02-10T11:19:34.518313Z"
    },
    "papermill": {
     "duration": 16.618089,
     "end_time": "2025-02-10T11:19:34.520865",
     "exception": false,
     "start_time": "2025-02-10T11:19:17.902776",
     "status": "completed"
    },
    "tags": []
   },
   "outputs": [
    {
     "name": "stdout",
     "output_type": "stream",
     "text": [
      "\n",
      " Final Per-Class Training Accuracy:\n",
      "\n",
      "BLB: Training = 90.87%\n",
      "Blast: Training = 53.44%\n",
      "healthy: Training = 86.14%\n",
      "hispa: Training = 76.73%\n",
      "leaf folder: Training = 95.53%\n",
      "leaf spot: Training = 64.45%\n",
      "\n",
      " Final Per-Class Validation Accuracy:\n",
      "\n",
      "BLB: Validation = 85.13%\n",
      "Blast: Validation = 30.08%\n",
      "healthy: Validation = 78.29%\n",
      "hispa: Validation = 63.84%\n",
      "leaf folder: Validation = 89.66%\n",
      "leaf spot: Validation = 50.00%\n",
      "\n",
      " Final Per-Class Test Accuracy:\n",
      "\n",
      "BLB: Test = 84.22%\n",
      "Blast: Test = 37.61%\n",
      "healthy: Test = 78.89%\n",
      "hispa: Test = 69.49%\n",
      "leaf folder: Test = 82.61%\n",
      "leaf spot: Test = 52.24%\n"
     ]
    }
   ],
   "source": [
    "import numpy as np\n",
    "import torch\n",
    "\n",
    "class_names = augmented_dataset.classes  \n",
    "num_classes = len(class_names)  \n",
    "\n",
    "def calculate_per_class_accuracy(model, data_loaders, device, datasets=[\"Training\", \"Validation\", \"Test\"]):\n",
    "    for dataset_type, data_loader in zip(datasets, data_loaders):\n",
    "        model.eval()\n",
    "        class_correct = np.zeros(num_classes) \n",
    "        class_total = np.zeros(num_classes)\n",
    "\n",
    "        with torch.no_grad():\n",
    "            for images, labels in data_loader:\n",
    "                images, labels = images.to(device), labels.to(device)\n",
    "                outputs = model(images)\n",
    "                _, predicted = torch.max(outputs, 1)\n",
    "\n",
    "                for i in range(len(labels)):\n",
    "                    label = labels[i].item()\n",
    "                    class_correct[label] += (predicted[i] == label).item()\n",
    "                    class_total[label] += 1\n",
    "\n",
    "        print(f\"\\n Final Per-Class {dataset_type} Accuracy:\\n\")\n",
    "        for i in range(num_classes):  \n",
    "            if class_total[i] > 0:\n",
    "                accuracy = 100 * class_correct[i] / class_total[i]\n",
    "                print(f\"{class_names[i]}: {dataset_type} = {accuracy:.2f}%\")\n",
    "            else:\n",
    "                print(f\"{class_names[i]}: {dataset_type} = No samples available \")\n",
    "\n",
    "data_loaders = [train_loader, val_loader, test_loader]\n",
    "datasets = [\"Training\", \"Validation\", \"Test\"]\n",
    "calculate_per_class_accuracy(model, data_loaders, device, datasets=datasets)"
   ]
  },
  {
   "cell_type": "code",
   "execution_count": 8,
   "id": "f4abf0bd",
   "metadata": {
    "execution": {
     "iopub.execute_input": "2025-02-10T11:19:34.535970Z",
     "iopub.status.busy": "2025-02-10T11:19:34.535684Z",
     "iopub.status.idle": "2025-02-10T11:19:42.559547Z",
     "shell.execute_reply": "2025-02-10T11:19:42.558293Z"
    },
    "papermill": {
     "duration": 8.032964,
     "end_time": "2025-02-10T11:19:42.560925",
     "exception": false,
     "start_time": "2025-02-10T11:19:34.527961",
     "status": "completed"
    },
    "tags": []
   },
   "outputs": [
    {
     "name": "stdout",
     "output_type": "stream",
     "text": [
      "Test Accuracy: 71.29%\n"
     ]
    },
    {
     "data": {
      "image/png": "[encoded data removed]",
      "text/plain": [
       "<Figure size 1000x500 with 1 Axes>"
      ]
     },
     "metadata": {},
     "output_type": "display_data"
    }
   ],
   "source": [
    "import numpy as np\n",
    "import torch\n",
    "from sklearn.metrics import precision_recall_curve, average_precision_score\n",
    "import matplotlib.pyplot as plt\n",
    "y_true = []\n",
    "y_scores = []\n",
    "model.eval()\n",
    "\n",
    "correct = 0\n",
    "total = 0\n",
    "with torch.no_grad():\n",
    "    for images, labels in test_loader:\n",
    "        images, labels = images.to(device), labels.to(device)\n",
    "        outputs = model(images)\n",
    "        _, predicted = torch.max(outputs, 1)\n",
    "        correct += (predicted == labels).sum().item()\n",
    "        total += labels.size(0)\n",
    "\n",
    "test_acc = 100 * correct / total\n",
    "print(f\"Test Accuracy: {test_acc:.2f}%\")\n",
    "with torch.no_grad():\n",
    "    for images, labels in test_loader:\n",
    "        images, labels = images.to(device), labels.to(device)\n",
    "        outputs = model(images)\n",
    "        probs = torch.nn.functional.softmax(outputs, dim=1)\n",
    "        \n",
    "        y_true.extend(labels.cpu().numpy())\n",
    "        y_scores.extend(probs.cpu().numpy())\n",
    "\n",
    "y_true = np.array(y_true)\n",
    "y_scores = np.array(y_scores)\n",
    "\n",
    "plt.figure(figsize=(10, 5))\n",
    "for i in range(len(class_names)):\n",
    "    precision, recall, _ = precision_recall_curve(y_true == i, y_scores[:, i])\n",
    "    avg_precision = average_precision_score(y_true == i, y_scores[:, i])\n",
    "    plt.plot(recall, precision, label=f\"{class_names[i]} (AP={avg_precision:.2f})\")\n",
    "\n",
    "plt.xlabel(\"Recall\")\n",
    "plt.ylabel(\"Precision\")\n",
    "plt.title(\"Precision-Recall Curve for Plant Disease Classification\")\n",
    "plt.legend()\n",
    "plt.show()"
   ]
  },
  {
   "cell_type": "code",
   "execution_count": 9,
   "id": "ccffbf5b",
   "metadata": {
    "execution": {
     "iopub.execute_input": "2025-02-10T11:19:42.579543Z",
     "iopub.status.busy": "2025-02-10T11:19:42.579054Z",
     "iopub.status.idle": "2025-02-10T11:19:42.584239Z",
     "shell.execute_reply": "2025-02-10T11:19:42.583488Z"
    },
    "papermill": {
     "duration": 0.015682,
     "end_time": "2025-02-10T11:19:42.585365",
     "exception": false,
     "start_time": "2025-02-10T11:19:42.569683",
     "status": "completed"
    },
    "tags": []
   },
   "outputs": [
    {
     "data": {
      "text/plain": [
       "' \\n\\nUNet, Resnet, SegNet, GoogleNet, VGG, AlexNet, IncepTon V3, R-CNN, YOLOv11,\\nViT, EfficientNetv2\\n'"
      ]
     },
     "execution_count": 9,
     "metadata": {},
     "output_type": "execute_result"
    }
   ],
   "source": [
    "\"\"\" \n",
    "\n",
    "UNet, Resnet, SegNet, GoogleNet, VGG, AlexNet, IncepTon V3, R-CNN, YOLOv11,\n",
    "ViT, EfficientNetv2\n",
    "\"\"\""
   ]
  },
  {
   "cell_type": "code",
   "execution_count": 10,
   "id": "1c187acc",
   "metadata": {
    "execution": {
     "iopub.execute_input": "2025-02-10T11:19:42.610117Z",
     "iopub.status.busy": "2025-02-10T11:19:42.609817Z",
     "iopub.status.idle": "2025-02-10T11:19:42.613453Z",
     "shell.execute_reply": "2025-02-10T11:19:42.612811Z"
    },
    "papermill": {
     "duration": 0.016894,
     "end_time": "2025-02-10T11:19:42.615580",
     "exception": false,
     "start_time": "2025-02-10T11:19:42.598686",
     "status": "completed"
    },
    "tags": []
   },
   "outputs": [],
   "source": [
    "# alexnet , resnet , googlenet , unet , vgg\n",
    "# segnet , inception , rcnn , vit  , efficient net"
   ]
  }
 ],
 "metadata": {
  "kaggle": {
   "accelerator": "gpu",
   "dataSources": [
    {
     "datasetId": 608236,
     "sourceId": 1091061,
     "sourceType": "datasetVersion"
    },
    {
     "datasetId": 6638340,
     "sourceId": 10710646,
     "sourceType": "datasetVersion"
    }
   ],
   "dockerImageVersionId": 30886,
   "isGpuEnabled": true,
   "isInternetEnabled": true,
   "language": "python",
   "sourceType": "notebook"
  },
  "kernelspec": {
   "display_name": "Python 3",
   "language": "python",
   "name": "python3"
  },
  "language_info": {
   "codemirror_mode": {
    "name": "ipython",
    "version": 3
   },
   "file_extension": ".py",
   "mimetype": "text/x-python",
   "name": "python",
   "nbconvert_exporter": "python",
   "pygments_lexer": "ipython3",
   "version": "3.10.12"
  },
  "papermill": {
   "default_parameters": {},
   "duration": 689.173248,
   "end_time": "2025-02-10T11:19:45.647711",
   "environment_variables": {},
   "exception": null,
   "input_path": "__notebook__.ipynb",
   "output_path": "__notebook__.ipynb",
   "parameters": {},
   "start_time": "2025-02-10T11:08:16.474463",
   "version": "2.6.0"
  }
 },
 "nbformat": 4,
 "nbformat_minor": 5
}
